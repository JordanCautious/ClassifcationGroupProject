{
  "cells": [
    {
      "cell_type": "markdown",
      "metadata": {
        "id": "3AuuQsDZ5OTn"
      },
      "source": [
        "## Load data"
      ]
    },
    {
      "cell_type": "code",
      "execution_count": 1,
      "id": "1b540543",
      "metadata": {
        "_cell_guid": "b1076dfc-b9ad-4769-8c92-a6c4dae69d19",
        "_uuid": "8f2839f25d086af736a60e9eeb907d3b93b6e0e5",
        "execution": {
          "iopub.execute_input": "2022-01-24T20:35:22.187792Z",
          "iopub.status.busy": "2022-01-24T20:35:22.185962Z",
          "iopub.status.idle": "2022-01-24T20:35:29.512063Z",
          "shell.execute_reply": "2022-01-24T20:35:29.511187Z",
          "shell.execute_reply.started": "2022-01-24T20:24:24.057059Z"
        },
        "papermill": {
          "duration": 7.367029,
          "end_time": "2022-01-24T20:35:29.512238",
          "exception": false,
          "start_time": "2022-01-24T20:35:22.145209",
          "status": "completed"
        },
        "pycharm": {
          "is_executing": true
        },
        "tags": []
      },
      "outputs": [],
      "source": [
        "import pandas as pd\n",
        "import numpy as np\n",
        "import matplotlib.pyplot as plt\n",
        "from sklearn.model_selection import train_test_split\n",
        "from sklearn.metrics import classification_report, confusion_matrix\n",
        "from sklearn.tree import DecisionTreeClassifier\n",
        "import seaborn as sns\n",
        "from sklearn.metrics  import f1_score,accuracy_score"
      ]
    },
    {
      "cell_type": "code",
      "execution_count": 2,
      "id": "647b1a4a",
      "metadata": {
        "execution": {
          "iopub.execute_input": "2022-01-24T20:35:29.588193Z",
          "iopub.status.busy": "2022-01-24T20:35:29.587526Z",
          "iopub.status.idle": "2022-01-24T20:35:35.774647Z",
          "shell.execute_reply": "2022-01-24T20:35:35.775250Z",
          "shell.execute_reply.started": "2022-01-24T20:24:31.971658Z"
        },
        "papermill": {
          "duration": 6.227758,
          "end_time": "2022-01-24T20:35:35.775445",
          "exception": false,
          "start_time": "2022-01-24T20:35:29.547687",
          "status": "completed"
        },
        "pycharm": {
          "is_executing": true
        },
        "tags": []
      },
      "outputs": [
        {
          "data": {
            "text/html": [
              "<div>\n",
              "<style scoped>\n",
              "    .dataframe tbody tr th:only-of-type {\n",
              "        vertical-align: middle;\n",
              "    }\n",
              "\n",
              "    .dataframe tbody tr th {\n",
              "        vertical-align: top;\n",
              "    }\n",
              "\n",
              "    .dataframe thead th {\n",
              "        text-align: right;\n",
              "    }\n",
              "</style>\n",
              "<table border=\"1\" class=\"dataframe\">\n",
              "  <thead>\n",
              "    <tr style=\"text-align: right;\">\n",
              "      <th></th>\n",
              "      <th>LoanNr_ChkDgt</th>\n",
              "      <th>Name</th>\n",
              "      <th>City</th>\n",
              "      <th>State</th>\n",
              "      <th>Zip</th>\n",
              "      <th>Bank</th>\n",
              "      <th>BankState</th>\n",
              "      <th>NAICS</th>\n",
              "      <th>ApprovalDate</th>\n",
              "      <th>ApprovalFY</th>\n",
              "      <th>...</th>\n",
              "      <th>RevLineCr</th>\n",
              "      <th>LowDoc</th>\n",
              "      <th>ChgOffDate</th>\n",
              "      <th>DisbursementDate</th>\n",
              "      <th>DisbursementGross</th>\n",
              "      <th>BalanceGross</th>\n",
              "      <th>MIS_Status</th>\n",
              "      <th>ChgOffPrinGr</th>\n",
              "      <th>GrAppv</th>\n",
              "      <th>SBA_Appv</th>\n",
              "    </tr>\n",
              "  </thead>\n",
              "  <tbody>\n",
              "    <tr>\n",
              "      <th>0</th>\n",
              "      <td>1000014003</td>\n",
              "      <td>ABC HOBBYCRAFT</td>\n",
              "      <td>EVANSVILLE</td>\n",
              "      <td>IN</td>\n",
              "      <td>47711</td>\n",
              "      <td>FIFTH THIRD BANK</td>\n",
              "      <td>OH</td>\n",
              "      <td>451120</td>\n",
              "      <td>28-Feb-97</td>\n",
              "      <td>1997</td>\n",
              "      <td>...</td>\n",
              "      <td>N</td>\n",
              "      <td>Y</td>\n",
              "      <td>NaN</td>\n",
              "      <td>28-Feb-99</td>\n",
              "      <td>$60,000.00</td>\n",
              "      <td>$0.00</td>\n",
              "      <td>P I F</td>\n",
              "      <td>$0.00</td>\n",
              "      <td>$60,000.00</td>\n",
              "      <td>$48,000.00</td>\n",
              "    </tr>\n",
              "    <tr>\n",
              "      <th>1</th>\n",
              "      <td>1000024006</td>\n",
              "      <td>LANDMARK BAR &amp; GRILLE (THE)</td>\n",
              "      <td>NEW PARIS</td>\n",
              "      <td>IN</td>\n",
              "      <td>46526</td>\n",
              "      <td>1ST SOURCE BANK</td>\n",
              "      <td>IN</td>\n",
              "      <td>722410</td>\n",
              "      <td>28-Feb-97</td>\n",
              "      <td>1997</td>\n",
              "      <td>...</td>\n",
              "      <td>N</td>\n",
              "      <td>Y</td>\n",
              "      <td>NaN</td>\n",
              "      <td>31-May-97</td>\n",
              "      <td>$40,000.00</td>\n",
              "      <td>$0.00</td>\n",
              "      <td>P I F</td>\n",
              "      <td>$0.00</td>\n",
              "      <td>$40,000.00</td>\n",
              "      <td>$32,000.00</td>\n",
              "    </tr>\n",
              "    <tr>\n",
              "      <th>2</th>\n",
              "      <td>1000034009</td>\n",
              "      <td>WHITLOCK DDS, TODD M.</td>\n",
              "      <td>BLOOMINGTON</td>\n",
              "      <td>IN</td>\n",
              "      <td>47401</td>\n",
              "      <td>GRANT COUNTY STATE BANK</td>\n",
              "      <td>IN</td>\n",
              "      <td>621210</td>\n",
              "      <td>28-Feb-97</td>\n",
              "      <td>1997</td>\n",
              "      <td>...</td>\n",
              "      <td>N</td>\n",
              "      <td>N</td>\n",
              "      <td>NaN</td>\n",
              "      <td>31-Dec-97</td>\n",
              "      <td>$287,000.00</td>\n",
              "      <td>$0.00</td>\n",
              "      <td>P I F</td>\n",
              "      <td>$0.00</td>\n",
              "      <td>$287,000.00</td>\n",
              "      <td>$215,250.00</td>\n",
              "    </tr>\n",
              "    <tr>\n",
              "      <th>3</th>\n",
              "      <td>1000044001</td>\n",
              "      <td>BIG BUCKS PAWN &amp; JEWELRY, LLC</td>\n",
              "      <td>BROKEN ARROW</td>\n",
              "      <td>OK</td>\n",
              "      <td>74012</td>\n",
              "      <td>1ST NATL BK &amp; TR CO OF BROKEN</td>\n",
              "      <td>OK</td>\n",
              "      <td>0</td>\n",
              "      <td>28-Feb-97</td>\n",
              "      <td>1997</td>\n",
              "      <td>...</td>\n",
              "      <td>N</td>\n",
              "      <td>Y</td>\n",
              "      <td>NaN</td>\n",
              "      <td>30-Jun-97</td>\n",
              "      <td>$35,000.00</td>\n",
              "      <td>$0.00</td>\n",
              "      <td>P I F</td>\n",
              "      <td>$0.00</td>\n",
              "      <td>$35,000.00</td>\n",
              "      <td>$28,000.00</td>\n",
              "    </tr>\n",
              "    <tr>\n",
              "      <th>4</th>\n",
              "      <td>1000054004</td>\n",
              "      <td>ANASTASIA CONFECTIONS, INC.</td>\n",
              "      <td>ORLANDO</td>\n",
              "      <td>FL</td>\n",
              "      <td>32801</td>\n",
              "      <td>FLORIDA BUS. DEVEL CORP</td>\n",
              "      <td>FL</td>\n",
              "      <td>0</td>\n",
              "      <td>28-Feb-97</td>\n",
              "      <td>1997</td>\n",
              "      <td>...</td>\n",
              "      <td>N</td>\n",
              "      <td>N</td>\n",
              "      <td>NaN</td>\n",
              "      <td>14-May-97</td>\n",
              "      <td>$229,000.00</td>\n",
              "      <td>$0.00</td>\n",
              "      <td>P I F</td>\n",
              "      <td>$0.00</td>\n",
              "      <td>$229,000.00</td>\n",
              "      <td>$229,000.00</td>\n",
              "    </tr>\n",
              "  </tbody>\n",
              "</table>\n",
              "<p>5 rows × 27 columns</p>\n",
              "</div>"
            ],
            "text/plain": [
              "   LoanNr_ChkDgt                           Name          City State    Zip  \\\n",
              "0     1000014003                 ABC HOBBYCRAFT    EVANSVILLE    IN  47711   \n",
              "1     1000024006    LANDMARK BAR & GRILLE (THE)     NEW PARIS    IN  46526   \n",
              "2     1000034009          WHITLOCK DDS, TODD M.   BLOOMINGTON    IN  47401   \n",
              "3     1000044001  BIG BUCKS PAWN & JEWELRY, LLC  BROKEN ARROW    OK  74012   \n",
              "4     1000054004    ANASTASIA CONFECTIONS, INC.       ORLANDO    FL  32801   \n",
              "\n",
              "                            Bank BankState   NAICS ApprovalDate ApprovalFY  \\\n",
              "0               FIFTH THIRD BANK        OH  451120    28-Feb-97       1997   \n",
              "1                1ST SOURCE BANK        IN  722410    28-Feb-97       1997   \n",
              "2        GRANT COUNTY STATE BANK        IN  621210    28-Feb-97       1997   \n",
              "3  1ST NATL BK & TR CO OF BROKEN        OK       0    28-Feb-97       1997   \n",
              "4        FLORIDA BUS. DEVEL CORP        FL       0    28-Feb-97       1997   \n",
              "\n",
              "   ...  RevLineCr  LowDoc  ChgOffDate  DisbursementDate  DisbursementGross  \\\n",
              "0  ...          N       Y         NaN         28-Feb-99        $60,000.00    \n",
              "1  ...          N       Y         NaN         31-May-97        $40,000.00    \n",
              "2  ...          N       N         NaN         31-Dec-97       $287,000.00    \n",
              "3  ...          N       Y         NaN         30-Jun-97        $35,000.00    \n",
              "4  ...          N       N         NaN         14-May-97       $229,000.00    \n",
              "\n",
              "   BalanceGross  MIS_Status ChgOffPrinGr        GrAppv      SBA_Appv  \n",
              "0        $0.00        P I F       $0.00    $60,000.00    $48,000.00   \n",
              "1        $0.00        P I F       $0.00    $40,000.00    $32,000.00   \n",
              "2        $0.00        P I F       $0.00   $287,000.00   $215,250.00   \n",
              "3        $0.00        P I F       $0.00    $35,000.00    $28,000.00   \n",
              "4        $0.00        P I F       $0.00   $229,000.00   $229,000.00   \n",
              "\n",
              "[5 rows x 27 columns]"
            ]
          },
          "execution_count": 2,
          "metadata": {},
          "output_type": "execute_result"
        }
      ],
      "source": [
        "df = pd.read_csv(\"/Users/sentinel/Developer/SBAnational.csv\",low_memory=False)\n",
        "df.head()"
      ]
    },
    {
      "cell_type": "code",
      "execution_count": 3,
      "id": "aa3a9d71",
      "metadata": {
        "execution": {
          "iopub.execute_input": "2022-01-24T20:35:35.852846Z",
          "iopub.status.busy": "2022-01-24T20:35:35.852110Z",
          "iopub.status.idle": "2022-01-24T20:35:35.856011Z",
          "shell.execute_reply": "2022-01-24T20:35:35.855449Z",
          "shell.execute_reply.started": "2022-01-24T20:24:38.869031Z"
        },
        "papermill": {
          "duration": 0.044622,
          "end_time": "2022-01-24T20:35:35.856169",
          "exception": false,
          "start_time": "2022-01-24T20:35:35.811547",
          "status": "completed"
        },
        "pycharm": {
          "is_executing": true
        },
        "tags": []
      },
      "outputs": [
        {
          "data": {
            "text/plain": [
              "(899164, 27)"
            ]
          },
          "execution_count": 3,
          "metadata": {},
          "output_type": "execute_result"
        }
      ],
      "source": [
        "df.shape"
      ]
    },
    {
      "cell_type": "markdown",
      "metadata": {
        "id": "HyfDacKG47Nt"
      },
      "source": [
        "## Exploratory Data Analysis"
      ]
    },
    {
      "cell_type": "code",
      "execution_count": 4,
      "id": "cd7164f0",
      "metadata": {
        "collapsed": false,
        "execution": {
          "iopub.execute_input": "2022-01-24T20:35:36.006491Z",
          "iopub.status.busy": "2022-01-24T20:35:36.005185Z",
          "iopub.status.idle": "2022-01-24T20:35:37.637934Z",
          "shell.execute_reply": "2022-01-24T20:35:37.637381Z",
          "shell.execute_reply.started": "2022-01-24T20:24:38.878042Z"
        },
        "jupyter": {
          "outputs_hidden": false
        },
        "papermill": {
          "duration": 1.673812,
          "end_time": "2022-01-24T20:35:37.638095",
          "exception": false,
          "start_time": "2022-01-24T20:35:35.964283",
          "status": "completed"
        },
        "pycharm": {
          "is_executing": true,
          "name": "#%%\n"
        },
        "tags": []
      },
      "outputs": [
        {
          "data": {
            "text/plain": [
              "LoanNr_ChkDgt             0\n",
              "Name                     14\n",
              "City                     30\n",
              "State                    14\n",
              "Zip                       0\n",
              "Bank                   1559\n",
              "BankState              1566\n",
              "NAICS                     0\n",
              "ApprovalDate              0\n",
              "ApprovalFY                0\n",
              "Term                      0\n",
              "NoEmp                     0\n",
              "NewExist                136\n",
              "CreateJob                 0\n",
              "RetainedJob               0\n",
              "FranchiseCode             0\n",
              "UrbanRural                0\n",
              "RevLineCr              4528\n",
              "LowDoc                 2582\n",
              "ChgOffDate           736465\n",
              "DisbursementDate       2368\n",
              "DisbursementGross         0\n",
              "BalanceGross              0\n",
              "MIS_Status             1997\n",
              "ChgOffPrinGr              0\n",
              "GrAppv                    0\n",
              "SBA_Appv                  0\n",
              "dtype: int64"
            ]
          },
          "execution_count": 4,
          "metadata": {},
          "output_type": "execute_result"
        }
      ],
      "source": [
        "df.isnull().sum()"
      ]
    },
    {
      "cell_type": "code",
      "execution_count": 5,
      "id": "fd60b7e9",
      "metadata": {
        "collapsed": false,
        "execution": {
          "iopub.execute_input": "2022-01-24T20:35:37.720157Z",
          "iopub.status.busy": "2022-01-24T20:35:37.718957Z",
          "iopub.status.idle": "2022-01-24T20:35:39.894934Z",
          "shell.execute_reply": "2022-01-24T20:35:39.895465Z",
          "shell.execute_reply.started": "2022-01-24T20:24:40.52433Z"
        },
        "jupyter": {
          "outputs_hidden": false
        },
        "papermill": {
          "duration": 2.221493,
          "end_time": "2022-01-24T20:35:39.895636",
          "exception": false,
          "start_time": "2022-01-24T20:35:37.674143",
          "status": "completed"
        },
        "pycharm": {
          "is_executing": true,
          "name": "#%%\n"
        },
        "tags": []
      },
      "outputs": [
        {
          "data": {
            "image/png": "[encoded data removed]",
            "text/plain": [
              "<Figure size 1080x720 with 2 Axes>"
            ]
          },
          "metadata": {
            "needs_background": "light"
          },
          "output_type": "display_data"
        }
      ],
      "source": [
        "cor_fig, cor_ax = plt.subplots(figsize=(15, 10))\n",
        "# we nneded to make MIS_Status binary in order to display it in the correlation matrix\n",
        "# it is a part of the data preparation\n",
        "df['Defaulted'] = [1 if app == 'CHGOFF' else 0 for app in df.MIS_Status.values]\n",
        "corr_matrix = df.corr()\n",
        "cor_ax = sns.heatmap(corr_matrix, annot=True)\n",
        "plt.xticks(rotation=30, horizontalalignment='right', fontsize=22)\n",
        "plt.yticks(fontsize=22)\n",
        "\n",
        "plt.savefig('correlation.png')\n",
        "plt.show()"
      ]
    },
    {
      "cell_type": "code",
      "execution_count": 6,
      "id": "ed9ab3a6",
      "metadata": {
        "collapsed": false,
        "execution": {
          "iopub.execute_input": "2022-01-24T20:35:39.978896Z",
          "iopub.status.busy": "2022-01-24T20:35:39.978175Z",
          "iopub.status.idle": "2022-01-24T20:35:40.404646Z",
          "shell.execute_reply": "2022-01-24T20:35:40.405224Z",
          "shell.execute_reply.started": "2022-01-24T20:24:42.693562Z"
        },
        "jupyter": {
          "outputs_hidden": false
        },
        "papermill": {
          "duration": 0.470002,
          "end_time": "2022-01-24T20:35:40.405403",
          "exception": false,
          "start_time": "2022-01-24T20:35:39.935401",
          "status": "completed"
        },
        "pycharm": {
          "is_executing": true,
          "name": "#%%\n"
        },
        "tags": []
      },
      "outputs": [
        {
          "data": {
            "image/png": "[encoded data removed]",
            "text/plain": [
              "<Figure size 1440x576 with 1 Axes>"
            ]
          },
          "metadata": {
            "needs_background": "light"
          },
          "output_type": "display_data"
        }
      ],
      "source": [
        "fig2 = plt.figure(figsize=(20,8))\n",
        "ax1 = fig2.add_subplot(1, 2, 1)\n",
        "plt.rcParams.update({'font.size': 14})\n",
        "sns.countplot(x=\"NewExist\", hue=\"Defaulted\", data=df)\n",
        "plt.legend()\n",
        "\n",
        "labels = (\"NULL\", \"NEW BUSINESS\", \"EXISTING BUSINESS\")\n",
        "positions = (0, 1, 2)\n",
        "plt.xticks(positions, labels)\n",
        "plt.savefig('new_exist.png')\n",
        "plt.show()"
      ]
    },
    {
      "cell_type": "code",
      "execution_count": 7,
      "id": "edcc7566",
      "metadata": {
        "collapsed": false,
        "execution": {
          "iopub.execute_input": "2022-01-24T20:35:40.516801Z",
          "iopub.status.busy": "2022-01-24T20:35:40.516088Z",
          "iopub.status.idle": "2022-01-24T20:35:42.674992Z",
          "shell.execute_reply": "2022-01-24T20:35:42.674475Z",
          "shell.execute_reply.started": "2022-01-24T20:24:43.135023Z"
        },
        "jupyter": {
          "outputs_hidden": false
        },
        "papermill": {
          "duration": 2.228948,
          "end_time": "2022-01-24T20:35:42.675139",
          "exception": false,
          "start_time": "2022-01-24T20:35:40.446191",
          "status": "completed"
        },
        "pycharm": {
          "is_executing": true,
          "name": "#%%\n"
        },
        "tags": []
      },
      "outputs": [
        {
          "data": {
            "image/png": "[encoded data removed]",
            "text/plain": [
              "<Figure size 3600x720 with 1 Axes>"
            ]
          },
          "metadata": {
            "needs_background": "light"
          },
          "output_type": "display_data"
        }
      ],
      "source": [
        "fig3 = plt.figure(figsize=(50, 10))\n",
        "\n",
        "ax1 = fig3.add_subplot(1, 2, 1)\n",
        "\n",
        "df = df.copy()\n",
        "\n",
        "df['Default'] = np.where(df['MIS_Status'] == 'P I F', 0, 1)\n",
        "df['Default'].value_counts()\n",
        "\n",
        "data = df.groupby(['State', 'Default'])['State'].count().unstack('Default')\n",
        "data.fillna(0)\n",
        "\n",
        "ax1.bar(data.index, data[1], label='Default')\n",
        "ax1.bar(data.index, data[0], bottom=data[1], label='Paid in full')\n",
        "\n",
        "ax1.set_title('Number of PIF/Defaulted df by State from 1984-2010', fontsize=15)\n",
        "ax1.set_xlabel('State')\n",
        "ax1.set_ylabel('Number of PIF/Defaulted Loans')\n",
        "ax1.legend()\n",
        "\n",
        "plt.tight_layout()\n",
        "\n",
        "plt.savefig('states.png')\n",
        "plt.show()"
      ]
    },
    {
      "cell_type": "code",
      "execution_count": 8,
      "id": "b0507c6e",
      "metadata": {
        "collapsed": false,
        "execution": {
          "iopub.execute_input": "2022-01-24T20:35:42.767176Z",
          "iopub.status.busy": "2022-01-24T20:35:42.766388Z",
          "iopub.status.idle": "2022-01-24T20:35:42.769533Z",
          "shell.execute_reply": "2022-01-24T20:35:42.770019Z",
          "shell.execute_reply.started": "2022-01-24T20:24:45.313382Z"
        },
        "jupyter": {
          "outputs_hidden": false
        },
        "papermill": {
          "duration": 0.051938,
          "end_time": "2022-01-24T20:35:42.770181",
          "exception": false,
          "start_time": "2022-01-24T20:35:42.718243",
          "status": "completed"
        },
        "pycharm": {
          "is_executing": true,
          "name": "#%%\n"
        },
        "tags": []
      },
      "outputs": [
        {
          "data": {
            "text/plain": [
              "Index(['LoanNr_ChkDgt', 'Name', 'City', 'State', 'Zip', 'Bank', 'BankState',\n",
              "       'NAICS', 'ApprovalDate', 'ApprovalFY', 'Term', 'NoEmp', 'NewExist',\n",
              "       'CreateJob', 'RetainedJob', 'FranchiseCode', 'UrbanRural', 'RevLineCr',\n",
              "       'LowDoc', 'ChgOffDate', 'DisbursementDate', 'DisbursementGross',\n",
              "       'BalanceGross', 'MIS_Status', 'ChgOffPrinGr', 'GrAppv', 'SBA_Appv',\n",
              "       'Defaulted', 'Default'],\n",
              "      dtype='object')"
            ]
          },
          "execution_count": 8,
          "metadata": {},
          "output_type": "execute_result"
        }
      ],
      "source": [
        "df.columns"
      ]
    },
    {
      "cell_type": "markdown",
      "id": "466bfe11",
      "metadata": {
        "papermill": {
          "duration": 0.04223,
          "end_time": "2022-01-24T20:35:42.854737",
          "exception": false,
          "start_time": "2022-01-24T20:35:42.812507",
          "status": "completed"
        },
        "tags": []
      },
      "source": [
        "# **Data Preparation**"
      ]
    },
    {
      "cell_type": "code",
      "execution_count": 9,
      "id": "d2f47f7f",
      "metadata": {
        "collapsed": false,
        "execution": {
          "iopub.execute_input": "2022-01-24T20:35:42.944853Z",
          "iopub.status.busy": "2022-01-24T20:35:42.943873Z",
          "iopub.status.idle": "2022-01-24T20:35:45.142124Z",
          "shell.execute_reply": "2022-01-24T20:35:45.142672Z",
          "shell.execute_reply.started": "2022-01-24T20:24:45.323043Z"
        },
        "jupyter": {
          "outputs_hidden": false
        },
        "papermill": {
          "duration": 2.245215,
          "end_time": "2022-01-24T20:35:45.142868",
          "exception": false,
          "start_time": "2022-01-24T20:35:42.897653",
          "status": "completed"
        },
        "pycharm": {
          "is_executing": true,
          "name": "#%%\n"
        },
        "tags": []
      },
      "outputs": [],
      "source": [
        "# we want to make a binary value stating if the loan was defaulted or not\n",
        "df = df.drop(columns=['MIS_Status'])\n",
        "\n",
        "# we only take the loans created before 2007\n",
        "df['ApprovalFY'] = df['ApprovalFY'].replace({'A':'','B':''}, regex = True).astype(int)\n",
        "df.drop(df[df['ApprovalFY']>2007].index, axis = 0, inplace = True)\n",
        "\n",
        "df = df.drop(columns=['ApprovalFY','ApprovalDate','DisbursementDate','ChgOffDate','LoanNr_ChkDgt','Name','Zip', 'City', 'Bank'])"
      ]
    },
    {
      "cell_type": "code",
      "execution_count": 10,
      "id": "0afe6f93",
      "metadata": {
        "collapsed": false,
        "execution": {
          "iopub.execute_input": "2022-01-24T20:35:45.240782Z",
          "iopub.status.busy": "2022-01-24T20:35:45.239714Z",
          "iopub.status.idle": "2022-01-24T20:35:45.249348Z",
          "shell.execute_reply": "2022-01-24T20:35:45.249813Z",
          "shell.execute_reply.started": "2022-01-24T20:24:47.549864Z"
        },
        "jupyter": {
          "outputs_hidden": false
        },
        "papermill": {
          "duration": 0.064765,
          "end_time": "2022-01-24T20:35:45.249986",
          "exception": false,
          "start_time": "2022-01-24T20:35:45.185221",
          "status": "completed"
        },
        "pycharm": {
          "is_executing": true,
          "name": "#%%\n"
        },
        "tags": []
      },
      "outputs": [
        {
          "data": {
            "text/html": [
              "<div>\n",
              "<style scoped>\n",
              "    .dataframe tbody tr th:only-of-type {\n",
              "        vertical-align: middle;\n",
              "    }\n",
              "\n",
              "    .dataframe tbody tr th {\n",
              "        vertical-align: top;\n",
              "    }\n",
              "\n",
              "    .dataframe thead th {\n",
              "        text-align: right;\n",
              "    }\n",
              "</style>\n",
              "<table border=\"1\" class=\"dataframe\">\n",
              "  <thead>\n",
              "    <tr style=\"text-align: right;\">\n",
              "      <th></th>\n",
              "      <th>State</th>\n",
              "      <th>BankState</th>\n",
              "      <th>NAICS</th>\n",
              "      <th>Term</th>\n",
              "      <th>NoEmp</th>\n",
              "      <th>NewExist</th>\n",
              "      <th>CreateJob</th>\n",
              "      <th>RetainedJob</th>\n",
              "      <th>FranchiseCode</th>\n",
              "      <th>UrbanRural</th>\n",
              "      <th>RevLineCr</th>\n",
              "      <th>LowDoc</th>\n",
              "      <th>DisbursementGross</th>\n",
              "      <th>BalanceGross</th>\n",
              "      <th>ChgOffPrinGr</th>\n",
              "      <th>GrAppv</th>\n",
              "      <th>SBA_Appv</th>\n",
              "      <th>Defaulted</th>\n",
              "      <th>Default</th>\n",
              "    </tr>\n",
              "  </thead>\n",
              "  <tbody>\n",
              "    <tr>\n",
              "      <th>0</th>\n",
              "      <td>IN</td>\n",
              "      <td>OH</td>\n",
              "      <td>451120</td>\n",
              "      <td>84</td>\n",
              "      <td>4</td>\n",
              "      <td>2.0</td>\n",
              "      <td>0</td>\n",
              "      <td>0</td>\n",
              "      <td>1</td>\n",
              "      <td>0</td>\n",
              "      <td>N</td>\n",
              "      <td>Y</td>\n",
              "      <td>$60,000.00</td>\n",
              "      <td>$0.00</td>\n",
              "      <td>$0.00</td>\n",
              "      <td>$60,000.00</td>\n",
              "      <td>$48,000.00</td>\n",
              "      <td>0</td>\n",
              "      <td>0</td>\n",
              "    </tr>\n",
              "    <tr>\n",
              "      <th>1</th>\n",
              "      <td>IN</td>\n",
              "      <td>IN</td>\n",
              "      <td>722410</td>\n",
              "      <td>60</td>\n",
              "      <td>2</td>\n",
              "      <td>2.0</td>\n",
              "      <td>0</td>\n",
              "      <td>0</td>\n",
              "      <td>1</td>\n",
              "      <td>0</td>\n",
              "      <td>N</td>\n",
              "      <td>Y</td>\n",
              "      <td>$40,000.00</td>\n",
              "      <td>$0.00</td>\n",
              "      <td>$0.00</td>\n",
              "      <td>$40,000.00</td>\n",
              "      <td>$32,000.00</td>\n",
              "      <td>0</td>\n",
              "      <td>0</td>\n",
              "    </tr>\n",
              "    <tr>\n",
              "      <th>2</th>\n",
              "      <td>IN</td>\n",
              "      <td>IN</td>\n",
              "      <td>621210</td>\n",
              "      <td>180</td>\n",
              "      <td>7</td>\n",
              "      <td>1.0</td>\n",
              "      <td>0</td>\n",
              "      <td>0</td>\n",
              "      <td>1</td>\n",
              "      <td>0</td>\n",
              "      <td>N</td>\n",
              "      <td>N</td>\n",
              "      <td>$287,000.00</td>\n",
              "      <td>$0.00</td>\n",
              "      <td>$0.00</td>\n",
              "      <td>$287,000.00</td>\n",
              "      <td>$215,250.00</td>\n",
              "      <td>0</td>\n",
              "      <td>0</td>\n",
              "    </tr>\n",
              "    <tr>\n",
              "      <th>3</th>\n",
              "      <td>OK</td>\n",
              "      <td>OK</td>\n",
              "      <td>0</td>\n",
              "      <td>60</td>\n",
              "      <td>2</td>\n",
              "      <td>1.0</td>\n",
              "      <td>0</td>\n",
              "      <td>0</td>\n",
              "      <td>1</td>\n",
              "      <td>0</td>\n",
              "      <td>N</td>\n",
              "      <td>Y</td>\n",
              "      <td>$35,000.00</td>\n",
              "      <td>$0.00</td>\n",
              "      <td>$0.00</td>\n",
              "      <td>$35,000.00</td>\n",
              "      <td>$28,000.00</td>\n",
              "      <td>0</td>\n",
              "      <td>0</td>\n",
              "    </tr>\n",
              "    <tr>\n",
              "      <th>4</th>\n",
              "      <td>FL</td>\n",
              "      <td>FL</td>\n",
              "      <td>0</td>\n",
              "      <td>240</td>\n",
              "      <td>14</td>\n",
              "      <td>1.0</td>\n",
              "      <td>7</td>\n",
              "      <td>7</td>\n",
              "      <td>1</td>\n",
              "      <td>0</td>\n",
              "      <td>N</td>\n",
              "      <td>N</td>\n",
              "      <td>$229,000.00</td>\n",
              "      <td>$0.00</td>\n",
              "      <td>$0.00</td>\n",
              "      <td>$229,000.00</td>\n",
              "      <td>$229,000.00</td>\n",
              "      <td>0</td>\n",
              "      <td>0</td>\n",
              "    </tr>\n",
              "  </tbody>\n",
              "</table>\n",
              "</div>"
            ],
            "text/plain": [
              "  State BankState   NAICS  Term  NoEmp  NewExist  CreateJob  RetainedJob  \\\n",
              "0    IN        OH  451120    84      4       2.0          0            0   \n",
              "1    IN        IN  722410    60      2       2.0          0            0   \n",
              "2    IN        IN  621210   180      7       1.0          0            0   \n",
              "3    OK        OK       0    60      2       1.0          0            0   \n",
              "4    FL        FL       0   240     14       1.0          7            7   \n",
              "\n",
              "   FranchiseCode  UrbanRural RevLineCr LowDoc DisbursementGross BalanceGross  \\\n",
              "0              1           0         N      Y       $60,000.00        $0.00    \n",
              "1              1           0         N      Y       $40,000.00        $0.00    \n",
              "2              1           0         N      N      $287,000.00        $0.00    \n",
              "3              1           0         N      Y       $35,000.00        $0.00    \n",
              "4              1           0         N      N      $229,000.00        $0.00    \n",
              "\n",
              "  ChgOffPrinGr        GrAppv      SBA_Appv  Defaulted  Default  \n",
              "0       $0.00    $60,000.00    $48,000.00           0        0  \n",
              "1       $0.00    $40,000.00    $32,000.00           0        0  \n",
              "2       $0.00   $287,000.00   $215,250.00           0        0  \n",
              "3       $0.00    $35,000.00    $28,000.00           0        0  \n",
              "4       $0.00   $229,000.00   $229,000.00           0        0  "
            ]
          },
          "execution_count": 10,
          "metadata": {},
          "output_type": "execute_result"
        }
      ],
      "source": [
        "df.head()"
      ]
    },
    {
      "cell_type": "code",
      "execution_count": 11,
      "id": "12437a72",
      "metadata": {
        "collapsed": false,
        "execution": {
          "iopub.execute_input": "2022-01-24T20:35:45.339827Z",
          "iopub.status.busy": "2022-01-24T20:35:45.338869Z",
          "iopub.status.idle": "2022-01-24T20:35:45.343862Z",
          "shell.execute_reply": "2022-01-24T20:35:45.344293Z",
          "shell.execute_reply.started": "2022-01-24T20:24:47.571786Z"
        },
        "jupyter": {
          "outputs_hidden": false
        },
        "papermill": {
          "duration": 0.05162,
          "end_time": "2022-01-24T20:35:45.344459",
          "exception": false,
          "start_time": "2022-01-24T20:35:45.292839",
          "status": "completed"
        },
        "pycharm": {
          "is_executing": true,
          "name": "#%%\n"
        },
        "tags": []
      },
      "outputs": [
        {
          "data": {
            "text/plain": [
              "(802319, 19)"
            ]
          },
          "execution_count": 11,
          "metadata": {},
          "output_type": "execute_result"
        }
      ],
      "source": [
        "df.shape"
      ]
    },
    {
      "cell_type": "code",
      "execution_count": 12,
      "id": "9d2da6c3",
      "metadata": {
        "collapsed": false,
        "execution": {
          "iopub.execute_input": "2022-01-24T20:35:45.439421Z",
          "iopub.status.busy": "2022-01-24T20:35:45.438718Z",
          "iopub.status.idle": "2022-01-24T20:35:50.553158Z",
          "shell.execute_reply": "2022-01-24T20:35:50.552558Z",
          "shell.execute_reply.started": "2022-01-24T20:24:47.585511Z"
        },
        "jupyter": {
          "outputs_hidden": false
        },
        "papermill": {
          "duration": 5.165681,
          "end_time": "2022-01-24T20:35:50.553304",
          "exception": false,
          "start_time": "2022-01-24T20:35:45.387623",
          "status": "completed"
        },
        "pycharm": {
          "is_executing": true,
          "name": "#%%\n"
        },
        "tags": []
      },
      "outputs": [],
      "source": [
        "def amount_to_float(number):\n",
        "    num = number.replace(\"$\", \"\")\n",
        "    num = num.replace(\",\",\"\")\n",
        "    num = num.replace(\" \",\"\")\n",
        "    return float(num)\n",
        "\n",
        "#instead of dealing with money as a string we will deal with it as a number\n",
        "df['BalanceGross'] = df['BalanceGross'].apply(lambda x: amount_to_float(x))\n",
        "df['DisbursementGross'] = df['DisbursementGross'].apply(lambda x: amount_to_float(x))\n",
        "df['ChgOffPrinGr'] = df['ChgOffPrinGr'].apply(lambda x: amount_to_float(x))\n",
        "df['GrAppv'] = df['GrAppv'].apply(lambda x: amount_to_float(x))\n",
        "df['SBA_Appv'] = df['SBA_Appv'].apply(lambda x: amount_to_float(x))"
      ]
    },
    {
      "cell_type": "code",
      "execution_count": 13,
      "id": "19dc5bbf",
      "metadata": {
        "collapsed": false,
        "execution": {
          "iopub.execute_input": "2022-01-24T20:35:50.645684Z",
          "iopub.status.busy": "2022-01-24T20:35:50.644996Z",
          "iopub.status.idle": "2022-01-24T20:35:50.667242Z",
          "shell.execute_reply": "2022-01-24T20:35:50.666635Z",
          "shell.execute_reply.started": "2022-01-24T20:24:52.852928Z"
        },
        "jupyter": {
          "outputs_hidden": false
        },
        "papermill": {
          "duration": 0.069279,
          "end_time": "2022-01-24T20:35:50.667397",
          "exception": false,
          "start_time": "2022-01-24T20:35:50.598118",
          "status": "completed"
        },
        "pycharm": {
          "is_executing": true,
          "name": "#%%\n"
        },
        "tags": []
      },
      "outputs": [],
      "source": [
        "# we replace it to be a binary where 1 to be a new business and 0 an old business\n",
        "df['NewExist'] = df['NewExist'].replace(1,0)\n",
        "df['NewExist'] = df['NewExist'].replace(2,1)"
      ]
    },
    {
      "cell_type": "code",
      "execution_count": 14,
      "id": "62e2d456",
      "metadata": {
        "collapsed": false,
        "execution": {
          "iopub.execute_input": "2022-01-24T20:35:50.758388Z",
          "iopub.status.busy": "2022-01-24T20:35:50.757722Z",
          "iopub.status.idle": "2022-01-24T20:35:55.004474Z",
          "shell.execute_reply": "2022-01-24T20:35:55.005112Z",
          "shell.execute_reply.started": "2022-01-24T20:24:52.881068Z"
        },
        "jupyter": {
          "outputs_hidden": false
        },
        "papermill": {
          "duration": 4.294373,
          "end_time": "2022-01-24T20:35:55.005321",
          "exception": false,
          "start_time": "2022-01-24T20:35:50.710948",
          "status": "completed"
        },
        "pycharm": {
          "is_executing": true,
          "name": "#%%\n"
        },
        "tags": []
      },
      "outputs": [],
      "source": [
        "# we replace the LowDoc values to be binary instead of Y and N\n",
        "df['LowDoc'] = df['LowDoc'].replace({'Y':'1', 'N':'0'}, regex=True)\n",
        "valid = ['1', '0']\n",
        "df = df.loc[df['LowDoc'].isin(valid)]\n",
        "df['LowDoc'] = df['LowDoc'].astype(int)"
      ]
    },
    {
      "cell_type": "code",
      "execution_count": 15,
      "id": "3ec6bd14",
      "metadata": {
        "execution": {
          "iopub.execute_input": "2022-01-24T20:35:55.183593Z",
          "iopub.status.busy": "2022-01-24T20:35:55.093880Z",
          "iopub.status.idle": "2022-01-24T20:35:58.957502Z",
          "shell.execute_reply": "2022-01-24T20:35:58.956607Z",
          "shell.execute_reply.started": "2022-01-24T20:24:57.163454Z"
        },
        "papermill": {
          "duration": 3.909283,
          "end_time": "2022-01-24T20:35:58.957656",
          "exception": false,
          "start_time": "2022-01-24T20:35:55.048373",
          "status": "completed"
        },
        "tags": []
      },
      "outputs": [],
      "source": [
        "# we replace the RevLineCr values to be binary instead of Y and N\n",
        "df['RevLineCr'] = df['RevLineCr'].replace({'Y':'1', 'N':'0'}, regex=True)\n",
        "df = df.loc[df['RevLineCr'].isin(valid)]\n",
        "df['RevLineCr'] = df['RevLineCr'].astype(int)"
      ]
    },
    {
      "cell_type": "code",
      "execution_count": 16,
      "id": "49516c01",
      "metadata": {
        "collapsed": false,
        "execution": {
          "iopub.execute_input": "2022-01-24T20:35:59.053155Z",
          "iopub.status.busy": "2022-01-24T20:35:59.051469Z",
          "iopub.status.idle": "2022-01-24T20:35:59.066254Z",
          "shell.execute_reply": "2022-01-24T20:35:59.065690Z",
          "shell.execute_reply.started": "2022-01-24T20:25:01.015904Z"
        },
        "jupyter": {
          "outputs_hidden": false
        },
        "papermill": {
          "duration": 0.064989,
          "end_time": "2022-01-24T20:35:59.066403",
          "exception": false,
          "start_time": "2022-01-24T20:35:59.001414",
          "status": "completed"
        },
        "pycharm": {
          "is_executing": true,
          "name": "#%%\n"
        },
        "tags": []
      },
      "outputs": [],
      "source": [
        "# we make FranchiseCode a binary column named Franchise where 1 is true and 0 is false\n",
        "df['FranchiseCode'] = df['FranchiseCode'].replace(1,0)\n",
        "df['FranchiseCode'] = np.where((df.FranchiseCode != 0),1,df.FranchiseCode)\n",
        "df.rename(columns={\"FranchiseCode\":\"Franchise\"},inplace=True)"
      ]
    },
    {
      "cell_type": "code",
      "execution_count": 17,
      "id": "074cf126",
      "metadata": {
        "collapsed": false,
        "execution": {
          "iopub.execute_input": "2022-01-24T20:35:59.163564Z",
          "iopub.status.busy": "2022-01-24T20:35:59.162810Z",
          "iopub.status.idle": "2022-01-24T20:35:59.165496Z",
          "shell.execute_reply": "2022-01-24T20:35:59.166014Z",
          "shell.execute_reply.started": "2022-01-24T20:25:01.039282Z"
        },
        "jupyter": {
          "outputs_hidden": false
        },
        "papermill": {
          "duration": 0.05591,
          "end_time": "2022-01-24T20:35:59.166188",
          "exception": false,
          "start_time": "2022-01-24T20:35:59.110278",
          "status": "completed"
        },
        "pycharm": {
          "is_executing": true,
          "name": "#%%\n"
        },
        "tags": []
      },
      "outputs": [
        {
          "data": {
            "text/plain": [
              "(783512, 19)"
            ]
          },
          "execution_count": 17,
          "metadata": {},
          "output_type": "execute_result"
        }
      ],
      "source": [
        "df.shape"
      ]
    },
    {
      "cell_type": "code",
      "execution_count": 18,
      "id": "4af0f04f",
      "metadata": {
        "collapsed": false,
        "execution": {
          "iopub.execute_input": "2022-01-24T20:35:59.260797Z",
          "iopub.status.busy": "2022-01-24T20:35:59.259303Z",
          "iopub.status.idle": "2022-01-24T20:35:59.758423Z",
          "shell.execute_reply": "2022-01-24T20:35:59.757824Z",
          "shell.execute_reply.started": "2022-01-24T20:25:01.046557Z"
        },
        "jupyter": {
          "outputs_hidden": false
        },
        "papermill": {
          "duration": 0.548645,
          "end_time": "2022-01-24T20:35:59.758563",
          "exception": false,
          "start_time": "2022-01-24T20:35:59.209918",
          "status": "completed"
        },
        "pycharm": {
          "is_executing": true,
          "name": "#%%\n"
        },
        "tags": []
      },
      "outputs": [],
      "source": [
        "# we get dummies for the catagorical columns BankState and State\n",
        "df = pd.get_dummies(df,columns=['BankState','State'],prefix=['BankState','State'])"
      ]
    },
    {
      "cell_type": "code",
      "execution_count": 19,
      "id": "3738d465",
      "metadata": {
        "collapsed": false,
        "execution": {
          "iopub.execute_input": "2022-01-24T20:35:59.854920Z",
          "iopub.status.busy": "2022-01-24T20:35:59.853894Z",
          "iopub.status.idle": "2022-01-24T20:36:00.879478Z",
          "shell.execute_reply": "2022-01-24T20:36:00.878854Z",
          "shell.execute_reply.started": "2022-01-24T20:25:01.589735Z"
        },
        "jupyter": {
          "outputs_hidden": false
        },
        "papermill": {
          "duration": 1.075751,
          "end_time": "2022-01-24T20:36:00.879623",
          "exception": false,
          "start_time": "2022-01-24T20:35:59.803872",
          "status": "completed"
        },
        "pycharm": {
          "is_executing": true,
          "name": "#%%\n"
        },
        "tags": []
      },
      "outputs": [],
      "source": [
        "# only take the first 2 digits from the NAICS values\n",
        "def first_n_digits(number, n):\n",
        "    return int(str(number)[:n])\n",
        "df['NAICS'] = df['NAICS'].apply(lambda x: first_n_digits(x,2))"
      ]
    },
    {
      "cell_type": "code",
      "execution_count": 20,
      "id": "da6da420",
      "metadata": {
        "collapsed": false,
        "execution": {
          "iopub.execute_input": "2022-01-24T20:36:00.982731Z",
          "iopub.status.busy": "2022-01-24T20:36:00.981302Z",
          "iopub.status.idle": "2022-01-24T20:36:00.993309Z",
          "shell.execute_reply": "2022-01-24T20:36:00.992703Z",
          "shell.execute_reply.started": "2022-01-24T20:25:02.567866Z"
        },
        "jupyter": {
          "outputs_hidden": false
        },
        "papermill": {
          "duration": 0.068154,
          "end_time": "2022-01-24T20:36:00.993476",
          "exception": false,
          "start_time": "2022-01-24T20:36:00.925322",
          "status": "completed"
        },
        "pycharm": {
          "is_executing": true,
          "name": "#%%\n"
        },
        "tags": []
      },
      "outputs": [
        {
          "data": {
            "text/html": [
              "<div>\n",
              "<style scoped>\n",
              "    .dataframe tbody tr th:only-of-type {\n",
              "        vertical-align: middle;\n",
              "    }\n",
              "\n",
              "    .dataframe tbody tr th {\n",
              "        vertical-align: top;\n",
              "    }\n",
              "\n",
              "    .dataframe thead th {\n",
              "        text-align: right;\n",
              "    }\n",
              "</style>\n",
              "<table border=\"1\" class=\"dataframe\">\n",
              "  <thead>\n",
              "    <tr style=\"text-align: right;\">\n",
              "      <th></th>\n",
              "      <th>NAICS</th>\n",
              "      <th>Term</th>\n",
              "      <th>NoEmp</th>\n",
              "      <th>NewExist</th>\n",
              "      <th>CreateJob</th>\n",
              "      <th>RetainedJob</th>\n",
              "      <th>Franchise</th>\n",
              "      <th>UrbanRural</th>\n",
              "      <th>RevLineCr</th>\n",
              "      <th>LowDoc</th>\n",
              "      <th>...</th>\n",
              "      <th>State_SD</th>\n",
              "      <th>State_TN</th>\n",
              "      <th>State_TX</th>\n",
              "      <th>State_UT</th>\n",
              "      <th>State_VA</th>\n",
              "      <th>State_VT</th>\n",
              "      <th>State_WA</th>\n",
              "      <th>State_WI</th>\n",
              "      <th>State_WV</th>\n",
              "      <th>State_WY</th>\n",
              "    </tr>\n",
              "  </thead>\n",
              "  <tbody>\n",
              "    <tr>\n",
              "      <th>0</th>\n",
              "      <td>45</td>\n",
              "      <td>84</td>\n",
              "      <td>4</td>\n",
              "      <td>1.0</td>\n",
              "      <td>0</td>\n",
              "      <td>0</td>\n",
              "      <td>0</td>\n",
              "      <td>0</td>\n",
              "      <td>0</td>\n",
              "      <td>1</td>\n",
              "      <td>...</td>\n",
              "      <td>0</td>\n",
              "      <td>0</td>\n",
              "      <td>0</td>\n",
              "      <td>0</td>\n",
              "      <td>0</td>\n",
              "      <td>0</td>\n",
              "      <td>0</td>\n",
              "      <td>0</td>\n",
              "      <td>0</td>\n",
              "      <td>0</td>\n",
              "    </tr>\n",
              "    <tr>\n",
              "      <th>1</th>\n",
              "      <td>72</td>\n",
              "      <td>60</td>\n",
              "      <td>2</td>\n",
              "      <td>1.0</td>\n",
              "      <td>0</td>\n",
              "      <td>0</td>\n",
              "      <td>0</td>\n",
              "      <td>0</td>\n",
              "      <td>0</td>\n",
              "      <td>1</td>\n",
              "      <td>...</td>\n",
              "      <td>0</td>\n",
              "      <td>0</td>\n",
              "      <td>0</td>\n",
              "      <td>0</td>\n",
              "      <td>0</td>\n",
              "      <td>0</td>\n",
              "      <td>0</td>\n",
              "      <td>0</td>\n",
              "      <td>0</td>\n",
              "      <td>0</td>\n",
              "    </tr>\n",
              "    <tr>\n",
              "      <th>2</th>\n",
              "      <td>62</td>\n",
              "      <td>180</td>\n",
              "      <td>7</td>\n",
              "      <td>0.0</td>\n",
              "      <td>0</td>\n",
              "      <td>0</td>\n",
              "      <td>0</td>\n",
              "      <td>0</td>\n",
              "      <td>0</td>\n",
              "      <td>0</td>\n",
              "      <td>...</td>\n",
              "      <td>0</td>\n",
              "      <td>0</td>\n",
              "      <td>0</td>\n",
              "      <td>0</td>\n",
              "      <td>0</td>\n",
              "      <td>0</td>\n",
              "      <td>0</td>\n",
              "      <td>0</td>\n",
              "      <td>0</td>\n",
              "      <td>0</td>\n",
              "    </tr>\n",
              "    <tr>\n",
              "      <th>3</th>\n",
              "      <td>0</td>\n",
              "      <td>60</td>\n",
              "      <td>2</td>\n",
              "      <td>0.0</td>\n",
              "      <td>0</td>\n",
              "      <td>0</td>\n",
              "      <td>0</td>\n",
              "      <td>0</td>\n",
              "      <td>0</td>\n",
              "      <td>1</td>\n",
              "      <td>...</td>\n",
              "      <td>0</td>\n",
              "      <td>0</td>\n",
              "      <td>0</td>\n",
              "      <td>0</td>\n",
              "      <td>0</td>\n",
              "      <td>0</td>\n",
              "      <td>0</td>\n",
              "      <td>0</td>\n",
              "      <td>0</td>\n",
              "      <td>0</td>\n",
              "    </tr>\n",
              "    <tr>\n",
              "      <th>4</th>\n",
              "      <td>0</td>\n",
              "      <td>240</td>\n",
              "      <td>14</td>\n",
              "      <td>0.0</td>\n",
              "      <td>7</td>\n",
              "      <td>7</td>\n",
              "      <td>0</td>\n",
              "      <td>0</td>\n",
              "      <td>0</td>\n",
              "      <td>0</td>\n",
              "      <td>...</td>\n",
              "      <td>0</td>\n",
              "      <td>0</td>\n",
              "      <td>0</td>\n",
              "      <td>0</td>\n",
              "      <td>0</td>\n",
              "      <td>0</td>\n",
              "      <td>0</td>\n",
              "      <td>0</td>\n",
              "      <td>0</td>\n",
              "      <td>0</td>\n",
              "    </tr>\n",
              "  </tbody>\n",
              "</table>\n",
              "<p>5 rows × 123 columns</p>\n",
              "</div>"
            ],
            "text/plain": [
              "   NAICS  Term  NoEmp  NewExist  CreateJob  RetainedJob  Franchise  \\\n",
              "0     45    84      4       1.0          0            0          0   \n",
              "1     72    60      2       1.0          0            0          0   \n",
              "2     62   180      7       0.0          0            0          0   \n",
              "3      0    60      2       0.0          0            0          0   \n",
              "4      0   240     14       0.0          7            7          0   \n",
              "\n",
              "   UrbanRural  RevLineCr  LowDoc  ...  State_SD  State_TN  State_TX  State_UT  \\\n",
              "0           0          0       1  ...         0         0         0         0   \n",
              "1           0          0       1  ...         0         0         0         0   \n",
              "2           0          0       0  ...         0         0         0         0   \n",
              "3           0          0       1  ...         0         0         0         0   \n",
              "4           0          0       0  ...         0         0         0         0   \n",
              "\n",
              "   State_VA  State_VT  State_WA  State_WI  State_WV  State_WY  \n",
              "0         0         0         0         0         0         0  \n",
              "1         0         0         0         0         0         0  \n",
              "2         0         0         0         0         0         0  \n",
              "3         0         0         0         0         0         0  \n",
              "4         0         0         0         0         0         0  \n",
              "\n",
              "[5 rows x 123 columns]"
            ]
          },
          "execution_count": 20,
          "metadata": {},
          "output_type": "execute_result"
        }
      ],
      "source": [
        "df.head()"
      ]
    },
    {
      "cell_type": "code",
      "execution_count": 21,
      "id": "9bc4e9ad",
      "metadata": {
        "collapsed": false,
        "execution": {
          "iopub.execute_input": "2022-01-24T20:36:01.090669Z",
          "iopub.status.busy": "2022-01-24T20:36:01.089982Z",
          "iopub.status.idle": "2022-01-24T20:36:01.098669Z",
          "shell.execute_reply": "2022-01-24T20:36:01.098101Z",
          "shell.execute_reply.started": "2022-01-24T20:25:02.592549Z"
        },
        "jupyter": {
          "outputs_hidden": false
        },
        "papermill": {
          "duration": 0.058684,
          "end_time": "2022-01-24T20:36:01.098823",
          "exception": false,
          "start_time": "2022-01-24T20:36:01.040139",
          "status": "completed"
        },
        "pycharm": {
          "is_executing": true,
          "name": "#%%\n"
        },
        "tags": []
      },
      "outputs": [
        {
          "data": {
            "text/plain": [
              "array([45, 72, 62,  0, 33, 81, 23, 44, 42, 61, 53, 54, 31, 51, 71, 52, 21,\n",
              "       32, 56, 48, 11, 92, 22, 49, 55])"
            ]
          },
          "execution_count": 21,
          "metadata": {},
          "output_type": "execute_result"
        }
      ],
      "source": [
        "df['NAICS'].unique()"
      ]
    },
    {
      "cell_type": "code",
      "execution_count": 22,
      "id": "de962508",
      "metadata": {
        "collapsed": false,
        "execution": {
          "iopub.execute_input": "2022-01-24T20:36:01.191559Z",
          "iopub.status.busy": "2022-01-24T20:36:01.190885Z",
          "iopub.status.idle": "2022-01-24T20:36:01.197473Z",
          "shell.execute_reply": "2022-01-24T20:36:01.196972Z",
          "shell.execute_reply.started": "2022-01-24T20:25:02.606685Z"
        },
        "jupyter": {
          "outputs_hidden": false
        },
        "papermill": {
          "duration": 0.054056,
          "end_time": "2022-01-24T20:36:01.197617",
          "exception": false,
          "start_time": "2022-01-24T20:36:01.143561",
          "status": "completed"
        },
        "pycharm": {
          "is_executing": true,
          "name": "#%%\n"
        },
        "tags": []
      },
      "outputs": [
        {
          "data": {
            "text/plain": [
              "Index(['NAICS', 'Term', 'NoEmp', 'NewExist', 'CreateJob', 'RetainedJob',\n",
              "       'Franchise', 'UrbanRural', 'RevLineCr', 'LowDoc',\n",
              "       ...\n",
              "       'State_SD', 'State_TN', 'State_TX', 'State_UT', 'State_VA', 'State_VT',\n",
              "       'State_WA', 'State_WI', 'State_WV', 'State_WY'],\n",
              "      dtype='object', length=123)"
            ]
          },
          "execution_count": 22,
          "metadata": {},
          "output_type": "execute_result"
        }
      ],
      "source": [
        "df.columns"
      ]
    },
    {
      "cell_type": "code",
      "execution_count": 23,
      "id": "90f5426f",
      "metadata": {
        "collapsed": false,
        "execution": {
          "iopub.execute_input": "2022-01-24T20:36:01.295200Z",
          "iopub.status.busy": "2022-01-24T20:36:01.294339Z",
          "iopub.status.idle": "2022-01-24T20:36:01.298190Z",
          "shell.execute_reply": "2022-01-24T20:36:01.297569Z",
          "shell.execute_reply.started": "2022-01-24T20:25:02.614431Z"
        },
        "jupyter": {
          "outputs_hidden": false
        },
        "papermill": {
          "duration": 0.055736,
          "end_time": "2022-01-24T20:36:01.298341",
          "exception": false,
          "start_time": "2022-01-24T20:36:01.242605",
          "status": "completed"
        },
        "pycharm": {
          "is_executing": true,
          "name": "#%%\n"
        },
        "tags": []
      },
      "outputs": [
        {
          "data": {
            "text/plain": [
              "NAICS          int64\n",
              "Term           int64\n",
              "NoEmp          int64\n",
              "NewExist     float64\n",
              "CreateJob      int64\n",
              "              ...   \n",
              "State_VT       uint8\n",
              "State_WA       uint8\n",
              "State_WI       uint8\n",
              "State_WV       uint8\n",
              "State_WY       uint8\n",
              "Length: 123, dtype: object"
            ]
          },
          "execution_count": 23,
          "metadata": {},
          "output_type": "execute_result"
        }
      ],
      "source": [
        "df.dtypes"
      ]
    },
    {
      "cell_type": "markdown",
      "metadata": {
        "id": "zUl6PApC8zlp"
      },
      "source": [
        "## Model selection and training\n",
        "\n",
        "Here is where you will use the `scikit-learn` module to choose, load, and train your ML algorithm of choice. At this step, we will discuss which algorithm to use carefully, based on the task at hand (classification/regression/clustering), and maybe some more details pertaining to certain algorithms.\n"
      ]
    },
    {
      "cell_type": "code",
      "execution_count": 24,
      "metadata": {},
      "outputs": [],
      "source": [
        "# 10 Popular Classificaiton Methods can be found here:\n",
        "# https://www.educative.io/blog/scikit-learn-cheat-sheet-classification-regression-methods\n",
        "# https://www.kaggle.com/code/ec200000/dsi-project#Modeling\n",
        "\n",
        "y = df['Defaulted']\n",
        "X = df.drop(columns=['Defaulted'])\n",
        "y_backup = y\n",
        "X = X.to_numpy()\n",
        "y = pd.get_dummies(y)\n",
        "y = y.to_numpy()\n",
        "X_train, X_test, y_train, y_test = train_test_split(X, y, random_state=0, stratify=y)"
      ]
    },
    {
      "cell_type": "code",
      "execution_count": 25,
      "metadata": {},
      "outputs": [
        {
          "data": {
            "text/plain": [
              "RandomForestClassifier()"
            ]
          },
          "execution_count": 25,
          "metadata": {},
          "output_type": "execute_result"
        }
      ],
      "source": [
        "# DT= DecisionTreeClassifier()\n",
        "# DT.fit(X_train,y_train)\n",
        "\n",
        "from sklearn.ensemble import RandomForestClassifier\n",
        "RF = RandomForestClassifier()\n",
        "RF.fit(X_train,y_train)"
      ]
    },
    {
      "cell_type": "code",
      "execution_count": 26,
      "metadata": {},
      "outputs": [
        {
          "name": "stdout",
          "output_type": "stream",
          "text": [
            "0.9999693686886736\n",
            "0.9999719212262766\n",
            "0.003918255240506846\n"
          ]
        }
      ],
      "source": [
        "from sklearn.metrics import mean_absolute_error\n",
        "from sklearn.metrics import r2_score\n",
        "\n",
        "# We use the predict() on the model to predict the output\n",
        "# pred=DT.predict(X_test)\n",
        "pred=RF.predict(X_test)\n",
        " \n",
        "# for classification we use accuracy and F1 score\n",
        "print(accuracy_score(y_test,pred))\n",
        "print(f1_score(y_test,pred,average='micro'))\n",
        " \n",
        "# for regression we use R2 score and MAE(mean absolute error)\n",
        "# all other steps will be same as classification as shown above\n",
        "print(mean_absolute_error(y_test,pred))"
      ]
    },
    {
      "cell_type": "markdown",
      "metadata": {
        "id": "LDdQwXj49L4c"
      },
      "source": [
        "## Results presentation\n",
        "\n",
        "This is the final step. Here, you will provide the outcomes of your analysis. These outcomes can be in the form of tables, plots, or both. \n",
        "As an extra step, you could also provide numerical results showing the efficiency of your model that can be described using specific ML characteristics:\n",
        "\n",
        " - accuracy\n",
        " - precision/recall\n",
        " - F1 score\n",
        " - Area Under Curve\n",
        " - ...\n",
        "\n",
        "We will discuss further about those in class."
      ]
    },
    {
      "cell_type": "code",
      "execution_count": null,
      "metadata": {
        "id": "GvJ5GWUr9y9P"
      },
      "outputs": [],
      "source": []
    }
  ],
  "metadata": {
    "colab": {
      "name": "GroupAssignmentTemplate.ipynb",
      "provenance": []
    },
    "kernelspec": {
      "display_name": "Python 3",
      "name": "python3"
    },
    "language_info": {
      "codemirror_mode": {
        "name": "ipython",
        "version": 3
      },
      "file_extension": ".py",
      "mimetype": "text/x-python",
      "name": "python",
      "nbconvert_exporter": "python",
      "pygments_lexer": "ipython3",
      "version": "3.9.7"
    }
  },
  "nbformat": 4,
  "nbformat_minor": 0
}
