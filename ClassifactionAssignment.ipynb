{
  "cells": [
    {
      "cell_type": "markdown",
      "metadata": {
        "id": "3AuuQsDZ5OTn"
      },
      "source": [
        "## Load data"
      ]
    },
    {
      "cell_type": "code",
<<<<<<< HEAD
      "execution_count": 123,
      "id": "1b540543",
=======
      "execution_count": 27,
>>>>>>> parent of 889ce87 (Added a correlation matrix)
      "metadata": {
        "_cell_guid": "b1076dfc-b9ad-4769-8c92-a6c4dae69d19",
        "_uuid": "8f2839f25d086af736a60e9eeb907d3b93b6e0e5",
        "execution": {
          "iopub.execute_input": "2022-01-24T20:35:22.187792Z",
          "iopub.status.busy": "2022-01-24T20:35:22.185962Z",
          "iopub.status.idle": "2022-01-24T20:35:29.512063Z",
          "shell.execute_reply": "2022-01-24T20:35:29.511187Z",
          "shell.execute_reply.started": "2022-01-24T20:24:24.057059Z"
        },
        "papermill": {
          "duration": 7.367029,
          "end_time": "2022-01-24T20:35:29.512238",
          "exception": false,
          "start_time": "2022-01-24T20:35:22.145209",
          "status": "completed"
        },
        "pycharm": {
          "is_executing": true
        },
        "tags": []
      },
      "outputs": [],
      "source": [
        "import pandas as pd\n",
<<<<<<< HEAD
        "import numpy as np\n",
        "import matplotlib.pyplot as plt\n",
        "from sklearn.model_selection import train_test_split\n",
        "from sklearn.metrics import classification_report, confusion_matrix\n",
        "from sklearn.tree import DecisionTreeClassifier\n",
        "import seaborn as sns"
=======
        "import matplotlib.pyplot as plt"
      ]
    },
    {
      "cell_type": "code",
      "execution_count": 28,
      "metadata": {},
      "outputs": [],
      "source": [
        "data = \"/Users/sentinel/Developer/SBAnational.csv\"\n",
        "\n",
        "df = pd.read_csv(data, sep=\",\",thousands=\",\",low_memory=False, na_values=\"n/a\",parse_dates=['DisbursementDate','ApprovalDate','ChgOffDate'])"
      ]
    },
    {
      "cell_type": "markdown",
      "metadata": {
        "id": "HyfDacKG47Nt"
      },
      "source": [
        "## Exploratory Data Analysis"
>>>>>>> parent of 889ce87 (Added a correlation matrix)
      ]
    },
    {
      "cell_type": "code",
<<<<<<< HEAD
      "execution_count": 124,
      "id": "647b1a4a",
=======
      "execution_count": 29,
>>>>>>> parent of 889ce87 (Added a correlation matrix)
      "metadata": {
        "execution": {
          "iopub.execute_input": "2022-01-24T20:35:29.588193Z",
          "iopub.status.busy": "2022-01-24T20:35:29.587526Z",
          "iopub.status.idle": "2022-01-24T20:35:35.774647Z",
          "shell.execute_reply": "2022-01-24T20:35:35.775250Z",
          "shell.execute_reply.started": "2022-01-24T20:24:31.971658Z"
        },
        "papermill": {
          "duration": 6.227758,
          "end_time": "2022-01-24T20:35:35.775445",
          "exception": false,
          "start_time": "2022-01-24T20:35:29.547687",
          "status": "completed"
        },
        "pycharm": {
          "is_executing": true
        },
        "tags": []
      },
      "outputs": [
        {
<<<<<<< HEAD
          "name": "stderr",
=======
          "data": {
            "text/plain": [
              "LoanNr_ChkDgt             0\n",
              "Name                     14\n",
              "City                     30\n",
              "State                    14\n",
              "Zip                       0\n",
              "Bank                   1559\n",
              "BankState              1566\n",
              "NAICS                     0\n",
              "ApprovalDate              0\n",
              "ApprovalFY                0\n",
              "Term                      0\n",
              "NoEmp                     0\n",
              "NewExist                136\n",
              "CreateJob                 0\n",
              "RetainedJob               0\n",
              "FranchiseCode             0\n",
              "UrbanRural                0\n",
              "RevLineCr              4528\n",
              "LowDoc                 2582\n",
              "ChgOffDate           736465\n",
              "DisbursementDate       2368\n",
              "DisbursementGross         0\n",
              "BalanceGross              0\n",
              "MIS_Status             1997\n",
              "ChgOffPrinGr              0\n",
              "GrAppv                    0\n",
              "SBA_Appv                  0\n",
              "dtype: int64"
            ]
          },
          "execution_count": 29,
          "metadata": {},
          "output_type": "execute_result"
        }
      ],
      "source": [
        "df.isnull().sum()"
      ]
    },
    {
      "cell_type": "code",
      "execution_count": 30,
      "metadata": {},
      "outputs": [],
      "source": [
        "df.dropna(axis=0, how=\"any\", thresh=None, subset=['Name', 'City', 'State', 'Bank', 'BankState', 'MIS_Status', 'NewExist','RevLineCr','LowDoc','DisbursementDate'], inplace=True)\n",
        "df['ChgOffDate'] = df['ChgOffDate'].fillna(\"N/A\")"
      ]
    },
    {
      "cell_type": "code",
      "execution_count": 31,
      "metadata": {},
      "outputs": [
        {
          "data": {
            "text/plain": [
              "LoanNr_ChkDgt        0\n",
              "Name                 0\n",
              "City                 0\n",
              "State                0\n",
              "Zip                  0\n",
              "Bank                 0\n",
              "BankState            0\n",
              "NAICS                0\n",
              "ApprovalDate         0\n",
              "ApprovalFY           0\n",
              "Term                 0\n",
              "NoEmp                0\n",
              "NewExist             0\n",
              "CreateJob            0\n",
              "RetainedJob          0\n",
              "FranchiseCode        0\n",
              "UrbanRural           0\n",
              "RevLineCr            0\n",
              "LowDoc               0\n",
              "ChgOffDate           0\n",
              "DisbursementDate     0\n",
              "DisbursementGross    0\n",
              "BalanceGross         0\n",
              "MIS_Status           0\n",
              "ChgOffPrinGr         0\n",
              "GrAppv               0\n",
              "SBA_Appv             0\n",
              "dtype: int64"
            ]
          },
          "execution_count": 31,
          "metadata": {},
          "output_type": "execute_result"
        }
      ],
      "source": [
        "df.isnull().sum()"
      ]
    },
    {
      "cell_type": "code",
      "execution_count": 32,
      "metadata": {},
      "outputs": [
        {
          "name": "stdout",
>>>>>>> parent of 889ce87 (Added a correlation matrix)
          "output_type": "stream",
          "text": [
            "/Users/sentinel/opt/anaconda3/lib/python3.9/site-packages/IPython/core/interactiveshell.py:3444: DtypeWarning: Columns (9) have mixed types.Specify dtype option on import or set low_memory=False.\n",
            "  exec(code_obj, self.user_global_ns, self.user_ns)\n"
          ]
<<<<<<< HEAD
        },
=======
        }
      ],
      "source": [
        "(rows, columns) = df.shape\n",
        "print (f\"There are about {columns} columns and {rows} rows.\")"
      ]
    },
    {
      "cell_type": "code",
      "execution_count": 33,
      "metadata": {},
      "outputs": [
        {
          "data": {
            "text/plain": [
              "LoanNr_ChkDgt                 int64\n",
              "Name                         object\n",
              "City                         object\n",
              "State                        object\n",
              "Zip                           int64\n",
              "Bank                         object\n",
              "BankState                    object\n",
              "NAICS                         int64\n",
              "ApprovalDate         datetime64[ns]\n",
              "ApprovalFY                   object\n",
              "Term                          int64\n",
              "NoEmp                         int64\n",
              "NewExist                    float64\n",
              "CreateJob                     int64\n",
              "RetainedJob                   int64\n",
              "FranchiseCode                 int64\n",
              "UrbanRural                    int64\n",
              "RevLineCr                    object\n",
              "LowDoc                       object\n",
              "ChgOffDate                   object\n",
              "DisbursementDate     datetime64[ns]\n",
              "DisbursementGross            object\n",
              "BalanceGross                 object\n",
              "MIS_Status                   object\n",
              "ChgOffPrinGr                 object\n",
              "GrAppv                       object\n",
              "SBA_Appv                     object\n",
              "dtype: object"
            ]
          },
          "execution_count": 33,
          "metadata": {},
          "output_type": "execute_result"
        }
      ],
      "source": [
        "df.dtypes"
      ]
    },
    {
      "cell_type": "code",
      "execution_count": 34,
      "metadata": {},
      "outputs": [],
      "source": [
        "df = df.convert_dtypes()"
      ]
    },
    {
      "cell_type": "code",
      "execution_count": 35,
      "metadata": {},
      "outputs": [
        {
          "data": {
            "text/plain": [
              "LoanNr_ChkDgt                 Int64\n",
              "Name                         string\n",
              "City                         string\n",
              "State                        string\n",
              "Zip                           Int64\n",
              "Bank                         string\n",
              "BankState                    string\n",
              "NAICS                         Int64\n",
              "ApprovalDate         datetime64[ns]\n",
              "ApprovalFY                   string\n",
              "Term                          Int64\n",
              "NoEmp                         Int64\n",
              "NewExist                      Int64\n",
              "CreateJob                     Int64\n",
              "RetainedJob                   Int64\n",
              "FranchiseCode                 Int64\n",
              "UrbanRural                    Int64\n",
              "RevLineCr                    string\n",
              "LowDoc                       string\n",
              "ChgOffDate                   object\n",
              "DisbursementDate     datetime64[ns]\n",
              "DisbursementGross            string\n",
              "BalanceGross                 string\n",
              "MIS_Status                   string\n",
              "ChgOffPrinGr                 string\n",
              "GrAppv                       string\n",
              "SBA_Appv                     string\n",
              "dtype: object"
            ]
          },
          "execution_count": 35,
          "metadata": {},
          "output_type": "execute_result"
        }
      ],
      "source": [
        "df.dtypes"
      ]
    },
    {
      "cell_type": "code",
      "execution_count": 36,
      "metadata": {},
      "outputs": [
>>>>>>> parent of 889ce87 (Added a correlation matrix)
        {
          "data": {
            "text/html": [
              "<div>\n",
              "<style scoped>\n",
              "    .dataframe tbody tr th:only-of-type {\n",
              "        vertical-align: middle;\n",
              "    }\n",
              "\n",
              "    .dataframe tbody tr th {\n",
              "        vertical-align: top;\n",
              "    }\n",
              "\n",
              "    .dataframe thead th {\n",
              "        text-align: right;\n",
              "    }\n",
              "</style>\n",
              "<table border=\"1\" class=\"dataframe\">\n",
              "  <thead>\n",
              "    <tr style=\"text-align: right;\">\n",
              "      <th></th>\n",
              "      <th>LoanNr_ChkDgt</th>\n",
              "      <th>Name</th>\n",
              "      <th>City</th>\n",
              "      <th>State</th>\n",
              "      <th>Zip</th>\n",
              "      <th>Bank</th>\n",
              "      <th>BankState</th>\n",
              "      <th>NAICS</th>\n",
              "      <th>ApprovalDate</th>\n",
              "      <th>ApprovalFY</th>\n",
              "      <th>...</th>\n",
              "      <th>RevLineCr</th>\n",
              "      <th>LowDoc</th>\n",
              "      <th>ChgOffDate</th>\n",
              "      <th>DisbursementDate</th>\n",
              "      <th>DisbursementGross</th>\n",
              "      <th>BalanceGross</th>\n",
              "      <th>MIS_Status</th>\n",
              "      <th>ChgOffPrinGr</th>\n",
              "      <th>GrAppv</th>\n",
              "      <th>SBA_Appv</th>\n",
              "    </tr>\n",
              "  </thead>\n",
              "  <tbody>\n",
              "    <tr>\n",
              "      <th>0</th>\n",
              "      <td>1000014003</td>\n",
              "      <td>ABC HOBBYCRAFT</td>\n",
              "      <td>EVANSVILLE</td>\n",
              "      <td>IN</td>\n",
              "      <td>47711</td>\n",
              "      <td>FIFTH THIRD BANK</td>\n",
              "      <td>OH</td>\n",
              "      <td>451120</td>\n",
              "      <td>28-Feb-97</td>\n",
              "      <td>1997</td>\n",
              "      <td>...</td>\n",
              "      <td>N</td>\n",
              "      <td>Y</td>\n",
              "      <td>NaN</td>\n",
              "      <td>28-Feb-99</td>\n",
              "      <td>$60,000.00</td>\n",
              "      <td>$0.00</td>\n",
              "      <td>P I F</td>\n",
              "      <td>$0.00</td>\n",
              "      <td>$60,000.00</td>\n",
              "      <td>$48,000.00</td>\n",
              "    </tr>\n",
              "    <tr>\n",
              "      <th>1</th>\n",
              "      <td>1000024006</td>\n",
              "      <td>LANDMARK BAR &amp; GRILLE (THE)</td>\n",
              "      <td>NEW PARIS</td>\n",
              "      <td>IN</td>\n",
              "      <td>46526</td>\n",
              "      <td>1ST SOURCE BANK</td>\n",
              "      <td>IN</td>\n",
              "      <td>722410</td>\n",
              "      <td>28-Feb-97</td>\n",
              "      <td>1997</td>\n",
              "      <td>...</td>\n",
              "      <td>N</td>\n",
              "      <td>Y</td>\n",
              "      <td>NaN</td>\n",
              "      <td>31-May-97</td>\n",
              "      <td>$40,000.00</td>\n",
              "      <td>$0.00</td>\n",
              "      <td>P I F</td>\n",
              "      <td>$0.00</td>\n",
              "      <td>$40,000.00</td>\n",
              "      <td>$32,000.00</td>\n",
              "    </tr>\n",
              "    <tr>\n",
              "      <th>2</th>\n",
              "      <td>1000034009</td>\n",
              "      <td>WHITLOCK DDS, TODD M.</td>\n",
              "      <td>BLOOMINGTON</td>\n",
              "      <td>IN</td>\n",
              "      <td>47401</td>\n",
              "      <td>GRANT COUNTY STATE BANK</td>\n",
              "      <td>IN</td>\n",
              "      <td>621210</td>\n",
              "      <td>28-Feb-97</td>\n",
              "      <td>1997</td>\n",
              "      <td>...</td>\n",
              "      <td>N</td>\n",
              "      <td>N</td>\n",
              "      <td>NaN</td>\n",
              "      <td>31-Dec-97</td>\n",
              "      <td>$287,000.00</td>\n",
              "      <td>$0.00</td>\n",
              "      <td>P I F</td>\n",
              "      <td>$0.00</td>\n",
              "      <td>$287,000.00</td>\n",
              "      <td>$215,250.00</td>\n",
              "    </tr>\n",
              "    <tr>\n",
              "      <th>3</th>\n",
              "      <td>1000044001</td>\n",
              "      <td>BIG BUCKS PAWN &amp; JEWELRY, LLC</td>\n",
              "      <td>BROKEN ARROW</td>\n",
              "      <td>OK</td>\n",
              "      <td>74012</td>\n",
              "      <td>1ST NATL BK &amp; TR CO OF BROKEN</td>\n",
              "      <td>OK</td>\n",
              "      <td>0</td>\n",
              "      <td>28-Feb-97</td>\n",
              "      <td>1997</td>\n",
              "      <td>...</td>\n",
              "      <td>N</td>\n",
              "      <td>Y</td>\n",
              "      <td>NaN</td>\n",
              "      <td>30-Jun-97</td>\n",
              "      <td>$35,000.00</td>\n",
              "      <td>$0.00</td>\n",
              "      <td>P I F</td>\n",
              "      <td>$0.00</td>\n",
              "      <td>$35,000.00</td>\n",
              "      <td>$28,000.00</td>\n",
              "    </tr>\n",
              "    <tr>\n",
              "      <th>4</th>\n",
              "      <td>1000054004</td>\n",
              "      <td>ANASTASIA CONFECTIONS, INC.</td>\n",
              "      <td>ORLANDO</td>\n",
              "      <td>FL</td>\n",
              "      <td>32801</td>\n",
              "      <td>FLORIDA BUS. DEVEL CORP</td>\n",
              "      <td>FL</td>\n",
              "      <td>0</td>\n",
              "      <td>28-Feb-97</td>\n",
              "      <td>1997</td>\n",
              "      <td>...</td>\n",
              "      <td>N</td>\n",
              "      <td>N</td>\n",
              "      <td>NaN</td>\n",
              "      <td>14-May-97</td>\n",
              "      <td>$229,000.00</td>\n",
              "      <td>$0.00</td>\n",
              "      <td>P I F</td>\n",
              "      <td>$0.00</td>\n",
              "      <td>$229,000.00</td>\n",
              "      <td>$229,000.00</td>\n",
              "    </tr>\n",
              "  </tbody>\n",
              "</table>\n",
              "<p>5 rows × 27 columns</p>\n",
              "</div>"
            ],
            "text/plain": [
              "   LoanNr_ChkDgt                           Name          City State    Zip  \\\n",
              "0     1000014003                 ABC HOBBYCRAFT    EVANSVILLE    IN  47711   \n",
              "1     1000024006    LANDMARK BAR & GRILLE (THE)     NEW PARIS    IN  46526   \n",
              "2     1000034009          WHITLOCK DDS, TODD M.   BLOOMINGTON    IN  47401   \n",
              "3     1000044001  BIG BUCKS PAWN & JEWELRY, LLC  BROKEN ARROW    OK  74012   \n",
              "4     1000054004    ANASTASIA CONFECTIONS, INC.       ORLANDO    FL  32801   \n",
              "\n",
              "                            Bank BankState   NAICS ApprovalDate ApprovalFY  \\\n",
              "0               FIFTH THIRD BANK        OH  451120    28-Feb-97       1997   \n",
              "1                1ST SOURCE BANK        IN  722410    28-Feb-97       1997   \n",
              "2        GRANT COUNTY STATE BANK        IN  621210    28-Feb-97       1997   \n",
              "3  1ST NATL BK & TR CO OF BROKEN        OK       0    28-Feb-97       1997   \n",
              "4        FLORIDA BUS. DEVEL CORP        FL       0    28-Feb-97       1997   \n",
              "\n",
              "   ...  RevLineCr  LowDoc  ChgOffDate  DisbursementDate  DisbursementGross  \\\n",
              "0  ...          N       Y         NaN         28-Feb-99        $60,000.00    \n",
              "1  ...          N       Y         NaN         31-May-97        $40,000.00    \n",
              "2  ...          N       N         NaN         31-Dec-97       $287,000.00    \n",
              "3  ...          N       Y         NaN         30-Jun-97        $35,000.00    \n",
              "4  ...          N       N         NaN         14-May-97       $229,000.00    \n",
              "\n",
              "   BalanceGross  MIS_Status ChgOffPrinGr        GrAppv      SBA_Appv  \n",
              "0        $0.00        P I F       $0.00    $60,000.00    $48,000.00   \n",
              "1        $0.00        P I F       $0.00    $40,000.00    $32,000.00   \n",
              "2        $0.00        P I F       $0.00   $287,000.00   $215,250.00   \n",
              "3        $0.00        P I F       $0.00    $35,000.00    $28,000.00   \n",
              "4        $0.00        P I F       $0.00   $229,000.00   $229,000.00   \n",
              "\n",
              "[5 rows x 27 columns]"
            ]
          },
<<<<<<< HEAD
          "execution_count": 124,
=======
          "execution_count": 36,
>>>>>>> parent of 889ce87 (Added a correlation matrix)
          "metadata": {},
          "output_type": "execute_result"
        }
      ],
      "source": [
        "df = pd.read_csv(\"/Users/sentinel/Developer/SBAnational.csv\")\n",
        "df.head()"
      ]
    },
    {
      "cell_type": "code",
<<<<<<< HEAD
      "execution_count": 125,
      "id": "aa3a9d71",
      "metadata": {
        "execution": {
          "iopub.execute_input": "2022-01-24T20:35:35.852846Z",
          "iopub.status.busy": "2022-01-24T20:35:35.852110Z",
          "iopub.status.idle": "2022-01-24T20:35:35.856011Z",
          "shell.execute_reply": "2022-01-24T20:35:35.855449Z",
          "shell.execute_reply.started": "2022-01-24T20:24:38.869031Z"
        },
        "papermill": {
          "duration": 0.044622,
          "end_time": "2022-01-24T20:35:35.856169",
          "exception": false,
          "start_time": "2022-01-24T20:35:35.811547",
          "status": "completed"
        },
        "pycharm": {
          "is_executing": true
        },
        "tags": []
      },
=======
      "execution_count": 37,
      "metadata": {},
>>>>>>> parent of 889ce87 (Added a correlation matrix)
      "outputs": [
        {
          "data": {
            "text/plain": [
              "(899164, 27)"
            ]
          },
<<<<<<< HEAD
          "execution_count": 125,
=======
          "execution_count": 37,
>>>>>>> parent of 889ce87 (Added a correlation matrix)
          "metadata": {},
          "output_type": "execute_result"
        }
      ],
      "source": [
        "df.shape"
      ]
    },
    {
<<<<<<< HEAD
      "cell_type": "markdown",
      "metadata": {
        "id": "HyfDacKG47Nt"
      },
=======
      "cell_type": "code",
      "execution_count": 38,
      "metadata": {},
      "outputs": [],
>>>>>>> parent of 889ce87 (Added a correlation matrix)
      "source": [
        "## Exploratory Data Analysis"
      ]
    },
    {
      "cell_type": "code",
<<<<<<< HEAD
      "execution_count": 126,
      "id": "cd7164f0",
      "metadata": {
        "collapsed": false,
        "execution": {
          "iopub.execute_input": "2022-01-24T20:35:36.006491Z",
          "iopub.status.busy": "2022-01-24T20:35:36.005185Z",
          "iopub.status.idle": "2022-01-24T20:35:37.637934Z",
          "shell.execute_reply": "2022-01-24T20:35:37.637381Z",
          "shell.execute_reply.started": "2022-01-24T20:24:38.878042Z"
        },
        "jupyter": {
          "outputs_hidden": false
        },
        "papermill": {
          "duration": 1.673812,
          "end_time": "2022-01-24T20:35:37.638095",
          "exception": false,
          "start_time": "2022-01-24T20:35:35.964283",
          "status": "completed"
        },
        "pycharm": {
          "is_executing": true,
          "name": "#%%\n"
        },
        "tags": []
      },
=======
      "execution_count": 39,
      "metadata": {},
>>>>>>> parent of 889ce87 (Added a correlation matrix)
      "outputs": [
        {
          "data": {
            "text/plain": [
              "LoanNr_ChkDgt             0\n",
              "Name                     14\n",
              "City                     30\n",
              "State                    14\n",
              "Zip                       0\n",
              "Bank                   1559\n",
              "BankState              1566\n",
              "NAICS                     0\n",
              "ApprovalDate              0\n",
              "ApprovalFY                0\n",
              "Term                      0\n",
              "NoEmp                     0\n",
              "NewExist                136\n",
              "CreateJob                 0\n",
              "RetainedJob               0\n",
              "FranchiseCode             0\n",
              "UrbanRural                0\n",
              "RevLineCr              4528\n",
              "LowDoc                 2582\n",
              "ChgOffDate           736465\n",
              "DisbursementDate       2368\n",
              "DisbursementGross         0\n",
              "BalanceGross              0\n",
              "MIS_Status             1997\n",
              "ChgOffPrinGr              0\n",
              "GrAppv                    0\n",
              "SBA_Appv                  0\n",
              "dtype: int64"
            ]
          },
<<<<<<< HEAD
          "execution_count": 126,
=======
          "execution_count": 39,
>>>>>>> parent of 889ce87 (Added a correlation matrix)
          "metadata": {},
          "output_type": "execute_result"
        }
      ],
      "source": [
        "df.isnull().sum()"
      ]
    },
    {
      "cell_type": "code",
<<<<<<< HEAD
      "execution_count": 127,
      "id": "fd60b7e9",
      "metadata": {
        "collapsed": false,
        "execution": {
          "iopub.execute_input": "2022-01-24T20:35:37.720157Z",
          "iopub.status.busy": "2022-01-24T20:35:37.718957Z",
          "iopub.status.idle": "2022-01-24T20:35:39.894934Z",
          "shell.execute_reply": "2022-01-24T20:35:39.895465Z",
          "shell.execute_reply.started": "2022-01-24T20:24:40.52433Z"
        },
        "jupyter": {
          "outputs_hidden": false
        },
        "papermill": {
          "duration": 2.221493,
          "end_time": "2022-01-24T20:35:39.895636",
          "exception": false,
          "start_time": "2022-01-24T20:35:37.674143",
          "status": "completed"
        },
        "pycharm": {
          "is_executing": true,
          "name": "#%%\n"
        },
        "tags": []
      },
=======
      "execution_count": 40,
      "metadata": {},
>>>>>>> parent of 889ce87 (Added a correlation matrix)
      "outputs": [
        {
          "data": {
            "image/png": "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",
            "text/plain": [
              "<Figure size 1080x720 with 2 Axes>"
            ]
          },
<<<<<<< HEAD
          "metadata": {
            "needs_background": "light"
          },
          "output_type": "display_data"
=======
          "execution_count": 40,
          "metadata": {},
          "output_type": "execute_result"
>>>>>>> parent of 889ce87 (Added a correlation matrix)
        }
      ],
      "source": [
        "cor_fig, cor_ax = plt.subplots(figsize=(15, 10))\n",
        "# we nneded to make MIS_Status binary in order to display it in the correlation matrix\n",
        "# it is a part of the data preparation\n",
        "df['Defaulted'] = [1 if app == 'CHGOFF' else 0 for app in df.MIS_Status.values]\n",
        "corr_matrix = df.corr()\n",
        "cor_ax = sns.heatmap(corr_matrix, annot=True)\n",
        "plt.xticks(rotation=30, horizontalalignment='right', fontsize=22)\n",
        "plt.yticks(fontsize=22)\n",
        "\n",
        "plt.savefig('correlation.png')\n",
        "plt.show()"
      ]
    },
    {
      "cell_type": "code",
<<<<<<< HEAD
      "execution_count": null,
      "id": "ed9ab3a6",
      "metadata": {
        "collapsed": false,
        "execution": {
          "iopub.execute_input": "2022-01-24T20:35:39.978896Z",
          "iopub.status.busy": "2022-01-24T20:35:39.978175Z",
          "iopub.status.idle": "2022-01-24T20:35:40.404646Z",
          "shell.execute_reply": "2022-01-24T20:35:40.405224Z",
          "shell.execute_reply.started": "2022-01-24T20:24:42.693562Z"
        },
        "jupyter": {
          "outputs_hidden": false
        },
        "papermill": {
          "duration": 0.470002,
          "end_time": "2022-01-24T20:35:40.405403",
          "exception": false,
          "start_time": "2022-01-24T20:35:39.935401",
          "status": "completed"
        },
        "pycharm": {
          "is_executing": true,
          "name": "#%%\n"
        },
        "tags": []
      },
      "outputs": [],
      "source": [
        "fig2 = plt.figure(figsize=(20,8))\n",
        "ax1 = fig2.add_subplot(1, 2, 1)\n",
        "plt.rcParams.update({'font.size': 14})\n",
        "sns.countplot(x=\"NewExist\", hue=\"Defaulted\", data=df)\n",
        "plt.legend()\n",
        "\n",
        "labels = (\"NULL\", \"NEW BUSINESS\", \"EXISTING BUSINESS\")\n",
        "positions = (0, 1, 2)\n",
        "plt.xticks(positions, labels)\n",
        "plt.savefig('new_exist.png')\n",
        "plt.show()"
=======
      "execution_count": 41,
      "metadata": {},
      "outputs": [],
      "source": [
        "df['MIS_Status'] = df['MIS_Status'].replace(['P I F'],'Paid')\n",
        "df['MIS_Status'] = df['MIS_Status'].replace(['CHGOFF'],'Charged')"
>>>>>>> parent of 889ce87 (Added a correlation matrix)
      ]
    },
    {
      "cell_type": "code",
<<<<<<< HEAD
      "execution_count": null,
      "id": "edcc7566",
      "metadata": {
        "collapsed": false,
        "execution": {
          "iopub.execute_input": "2022-01-24T20:35:40.516801Z",
          "iopub.status.busy": "2022-01-24T20:35:40.516088Z",
          "iopub.status.idle": "2022-01-24T20:35:42.674992Z",
          "shell.execute_reply": "2022-01-24T20:35:42.674475Z",
          "shell.execute_reply.started": "2022-01-24T20:24:43.135023Z"
        },
        "jupyter": {
          "outputs_hidden": false
        },
        "papermill": {
          "duration": 2.228948,
          "end_time": "2022-01-24T20:35:42.675139",
          "exception": false,
          "start_time": "2022-01-24T20:35:40.446191",
          "status": "completed"
        },
        "pycharm": {
          "is_executing": true,
          "name": "#%%\n"
        },
        "tags": []
      },
      "outputs": [],
      "source": [
        "fig3 = plt.figure(figsize=(50, 10))\n",
        "\n",
        "ax1 = fig3.add_subplot(1, 2, 1)\n",
        "\n",
        "df = df.copy()\n",
        "\n",
        "df['Default'] = np.where(df['MIS_Status'] == 'P I F', 0, 1)\n",
        "df['Default'].value_counts()\n",
        "\n",
        "data = df.groupby(['State', 'Default'])['State'].count().unstack('Default')\n",
        "data.fillna(0)\n",
        "\n",
        "ax1.bar(data.index, data[1], label='Default')\n",
        "ax1.bar(data.index, data[0], bottom=data[1], label='Paid in full')\n",
        "\n",
        "ax1.set_title('Number of PIF/Defaulted df by State from 1984-2010', fontsize=15)\n",
        "ax1.set_xlabel('State')\n",
        "ax1.set_ylabel('Number of PIF/Defaulted Loans')\n",
        "ax1.legend()\n",
        "\n",
        "plt.tight_layout()\n",
        "\n",
        "plt.savefig('states.png')\n",
        "plt.show()"
      ]
    },
    {
      "cell_type": "code",
      "execution_count": null,
      "id": "b0507c6e",
      "metadata": {
        "collapsed": false,
        "execution": {
          "iopub.execute_input": "2022-01-24T20:35:42.767176Z",
          "iopub.status.busy": "2022-01-24T20:35:42.766388Z",
          "iopub.status.idle": "2022-01-24T20:35:42.769533Z",
          "shell.execute_reply": "2022-01-24T20:35:42.770019Z",
          "shell.execute_reply.started": "2022-01-24T20:24:45.313382Z"
        },
        "jupyter": {
          "outputs_hidden": false
        },
        "papermill": {
          "duration": 0.051938,
          "end_time": "2022-01-24T20:35:42.770181",
          "exception": false,
          "start_time": "2022-01-24T20:35:42.718243",
          "status": "completed"
        },
        "pycharm": {
          "is_executing": true,
          "name": "#%%\n"
        },
        "tags": []
      },
      "outputs": [],
      "source": [
        "df.columns"
      ]
    },
    {
      "cell_type": "markdown",
      "id": "466bfe11",
      "metadata": {
        "papermill": {
          "duration": 0.04223,
          "end_time": "2022-01-24T20:35:42.854737",
          "exception": false,
          "start_time": "2022-01-24T20:35:42.812507",
          "status": "completed"
        },
        "tags": []
      },
      "source": [
        "# **Data Preparation**"
      ]
    },
    {
      "cell_type": "code",
      "execution_count": null,
      "id": "d2f47f7f",
      "metadata": {
        "collapsed": false,
        "execution": {
          "iopub.execute_input": "2022-01-24T20:35:42.944853Z",
          "iopub.status.busy": "2022-01-24T20:35:42.943873Z",
          "iopub.status.idle": "2022-01-24T20:35:45.142124Z",
          "shell.execute_reply": "2022-01-24T20:35:45.142672Z",
          "shell.execute_reply.started": "2022-01-24T20:24:45.323043Z"
        },
        "jupyter": {
          "outputs_hidden": false
        },
        "papermill": {
          "duration": 2.245215,
          "end_time": "2022-01-24T20:35:45.142868",
          "exception": false,
          "start_time": "2022-01-24T20:35:42.897653",
          "status": "completed"
        },
        "pycharm": {
          "is_executing": true,
          "name": "#%%\n"
        },
        "tags": []
      },
      "outputs": [],
      "source": [
        "# we want to make a binary value stating if the loan was defaulted or not\n",
        "df = df.drop(columns=['MIS_Status'])\n",
        "\n",
        "# we only take the loans created before 2007\n",
        "df['ApprovalFY'] = df['ApprovalFY'].replace({'A':'','B':''}, regex = True).astype(int)\n",
        "df.drop(df[df['ApprovalFY']>2007].index, axis = 0, inplace = True)\n",
        "\n",
        "df = df.drop(columns=['ApprovalFY','ApprovalDate','DisbursementDate','ChgOffDate','LoanNr_ChkDgt','Name','Zip', 'City', 'Bank'])"
      ]
    },
    {
      "cell_type": "code",
      "execution_count": null,
      "id": "0afe6f93",
      "metadata": {
        "collapsed": false,
        "execution": {
          "iopub.execute_input": "2022-01-24T20:35:45.240782Z",
          "iopub.status.busy": "2022-01-24T20:35:45.239714Z",
          "iopub.status.idle": "2022-01-24T20:35:45.249348Z",
          "shell.execute_reply": "2022-01-24T20:35:45.249813Z",
          "shell.execute_reply.started": "2022-01-24T20:24:47.549864Z"
        },
        "jupyter": {
          "outputs_hidden": false
        },
        "papermill": {
          "duration": 0.064765,
          "end_time": "2022-01-24T20:35:45.249986",
          "exception": false,
          "start_time": "2022-01-24T20:35:45.185221",
          "status": "completed"
        },
        "pycharm": {
          "is_executing": true,
          "name": "#%%\n"
        },
        "tags": []
      },
      "outputs": [],
=======
      "execution_count": 42,
      "metadata": {},
      "outputs": [
        {
          "data": {
            "text/html": [
              "<div>\n",
              "<style scoped>\n",
              "    .dataframe tbody tr th:only-of-type {\n",
              "        vertical-align: middle;\n",
              "    }\n",
              "\n",
              "    .dataframe tbody tr th {\n",
              "        vertical-align: top;\n",
              "    }\n",
              "\n",
              "    .dataframe thead th {\n",
              "        text-align: right;\n",
              "    }\n",
              "</style>\n",
              "<table border=\"1\" class=\"dataframe\">\n",
              "  <thead>\n",
              "    <tr style=\"text-align: right;\">\n",
              "      <th></th>\n",
              "      <th>LoanNr_ChkDgt</th>\n",
              "      <th>Name</th>\n",
              "      <th>City</th>\n",
              "      <th>State</th>\n",
              "      <th>Zip</th>\n",
              "      <th>Bank</th>\n",
              "      <th>BankState</th>\n",
              "      <th>NAICS</th>\n",
              "      <th>ApprovalDate</th>\n",
              "      <th>ApprovalFY</th>\n",
              "      <th>...</th>\n",
              "      <th>RevLineCr</th>\n",
              "      <th>LowDoc</th>\n",
              "      <th>ChgOffDate</th>\n",
              "      <th>DisbursementDate</th>\n",
              "      <th>DisbursementGross</th>\n",
              "      <th>BalanceGross</th>\n",
              "      <th>MIS_Status</th>\n",
              "      <th>ChgOffPrinGr</th>\n",
              "      <th>GrAppv</th>\n",
              "      <th>SBA_Appv</th>\n",
              "    </tr>\n",
              "  </thead>\n",
              "  <tbody>\n",
              "    <tr>\n",
              "      <th>0</th>\n",
              "      <td>1000014003</td>\n",
              "      <td>ABC HOBBYCRAFT</td>\n",
              "      <td>EVANSVILLE</td>\n",
              "      <td>IN</td>\n",
              "      <td>47711</td>\n",
              "      <td>FIFTH THIRD BANK</td>\n",
              "      <td>OH</td>\n",
              "      <td>451120</td>\n",
              "      <td>1997-02-28</td>\n",
              "      <td>1997</td>\n",
              "      <td>...</td>\n",
              "      <td>N</td>\n",
              "      <td>Y</td>\n",
              "      <td>N/A</td>\n",
              "      <td>1999-02-28</td>\n",
              "      <td>60000.0</td>\n",
              "      <td>0.0</td>\n",
              "      <td>Paid</td>\n",
              "      <td>0.0</td>\n",
              "      <td>60000.0</td>\n",
              "      <td>48000.0</td>\n",
              "    </tr>\n",
              "    <tr>\n",
              "      <th>1</th>\n",
              "      <td>1000024006</td>\n",
              "      <td>LANDMARK BAR &amp; GRILLE (THE)</td>\n",
              "      <td>NEW PARIS</td>\n",
              "      <td>IN</td>\n",
              "      <td>46526</td>\n",
              "      <td>1ST SOURCE BANK</td>\n",
              "      <td>IN</td>\n",
              "      <td>722410</td>\n",
              "      <td>1997-02-28</td>\n",
              "      <td>1997</td>\n",
              "      <td>...</td>\n",
              "      <td>N</td>\n",
              "      <td>Y</td>\n",
              "      <td>N/A</td>\n",
              "      <td>1997-05-31</td>\n",
              "      <td>40000.0</td>\n",
              "      <td>0.0</td>\n",
              "      <td>Paid</td>\n",
              "      <td>0.0</td>\n",
              "      <td>40000.0</td>\n",
              "      <td>32000.0</td>\n",
              "    </tr>\n",
              "    <tr>\n",
              "      <th>2</th>\n",
              "      <td>1000034009</td>\n",
              "      <td>WHITLOCK DDS, TODD M.</td>\n",
              "      <td>BLOOMINGTON</td>\n",
              "      <td>IN</td>\n",
              "      <td>47401</td>\n",
              "      <td>GRANT COUNTY STATE BANK</td>\n",
              "      <td>IN</td>\n",
              "      <td>621210</td>\n",
              "      <td>1997-02-28</td>\n",
              "      <td>1997</td>\n",
              "      <td>...</td>\n",
              "      <td>N</td>\n",
              "      <td>N</td>\n",
              "      <td>N/A</td>\n",
              "      <td>1997-12-31</td>\n",
              "      <td>287000.0</td>\n",
              "      <td>0.0</td>\n",
              "      <td>Paid</td>\n",
              "      <td>0.0</td>\n",
              "      <td>287000.0</td>\n",
              "      <td>215250.0</td>\n",
              "    </tr>\n",
              "    <tr>\n",
              "      <th>3</th>\n",
              "      <td>1000044001</td>\n",
              "      <td>BIG BUCKS PAWN &amp; JEWELRY, LLC</td>\n",
              "      <td>BROKEN ARROW</td>\n",
              "      <td>OK</td>\n",
              "      <td>74012</td>\n",
              "      <td>1ST NATL BK &amp; TR CO OF BROKEN</td>\n",
              "      <td>OK</td>\n",
              "      <td>0</td>\n",
              "      <td>1997-02-28</td>\n",
              "      <td>1997</td>\n",
              "      <td>...</td>\n",
              "      <td>N</td>\n",
              "      <td>Y</td>\n",
              "      <td>N/A</td>\n",
              "      <td>1997-06-30</td>\n",
              "      <td>35000.0</td>\n",
              "      <td>0.0</td>\n",
              "      <td>Paid</td>\n",
              "      <td>0.0</td>\n",
              "      <td>35000.0</td>\n",
              "      <td>28000.0</td>\n",
              "    </tr>\n",
              "    <tr>\n",
              "      <th>4</th>\n",
              "      <td>1000054004</td>\n",
              "      <td>ANASTASIA CONFECTIONS, INC.</td>\n",
              "      <td>ORLANDO</td>\n",
              "      <td>FL</td>\n",
              "      <td>32801</td>\n",
              "      <td>FLORIDA BUS. DEVEL CORP</td>\n",
              "      <td>FL</td>\n",
              "      <td>0</td>\n",
              "      <td>1997-02-28</td>\n",
              "      <td>1997</td>\n",
              "      <td>...</td>\n",
              "      <td>N</td>\n",
              "      <td>N</td>\n",
              "      <td>N/A</td>\n",
              "      <td>1997-05-14</td>\n",
              "      <td>229000.0</td>\n",
              "      <td>0.0</td>\n",
              "      <td>Paid</td>\n",
              "      <td>0.0</td>\n",
              "      <td>229000.0</td>\n",
              "      <td>229000.0</td>\n",
              "    </tr>\n",
              "  </tbody>\n",
              "</table>\n",
              "<p>5 rows × 27 columns</p>\n",
              "</div>"
            ],
            "text/plain": [
              "   LoanNr_ChkDgt                           Name          City State    Zip  \\\n",
              "0     1000014003                 ABC HOBBYCRAFT    EVANSVILLE    IN  47711   \n",
              "1     1000024006    LANDMARK BAR & GRILLE (THE)     NEW PARIS    IN  46526   \n",
              "2     1000034009          WHITLOCK DDS, TODD M.   BLOOMINGTON    IN  47401   \n",
              "3     1000044001  BIG BUCKS PAWN & JEWELRY, LLC  BROKEN ARROW    OK  74012   \n",
              "4     1000054004    ANASTASIA CONFECTIONS, INC.       ORLANDO    FL  32801   \n",
              "\n",
              "                            Bank BankState   NAICS ApprovalDate ApprovalFY  \\\n",
              "0               FIFTH THIRD BANK        OH  451120   1997-02-28       1997   \n",
              "1                1ST SOURCE BANK        IN  722410   1997-02-28       1997   \n",
              "2        GRANT COUNTY STATE BANK        IN  621210   1997-02-28       1997   \n",
              "3  1ST NATL BK & TR CO OF BROKEN        OK       0   1997-02-28       1997   \n",
              "4        FLORIDA BUS. DEVEL CORP        FL       0   1997-02-28       1997   \n",
              "\n",
              "   ...  RevLineCr  LowDoc  ChgOffDate  DisbursementDate  DisbursementGross  \\\n",
              "0  ...          N       Y         N/A        1999-02-28            60000.0   \n",
              "1  ...          N       Y         N/A        1997-05-31            40000.0   \n",
              "2  ...          N       N         N/A        1997-12-31           287000.0   \n",
              "3  ...          N       Y         N/A        1997-06-30            35000.0   \n",
              "4  ...          N       N         N/A        1997-05-14           229000.0   \n",
              "\n",
              "   BalanceGross  MIS_Status ChgOffPrinGr    GrAppv  SBA_Appv  \n",
              "0           0.0        Paid          0.0   60000.0   48000.0  \n",
              "1           0.0        Paid          0.0   40000.0   32000.0  \n",
              "2           0.0        Paid          0.0  287000.0  215250.0  \n",
              "3           0.0        Paid          0.0   35000.0   28000.0  \n",
              "4           0.0        Paid          0.0  229000.0  229000.0  \n",
              "\n",
              "[5 rows x 27 columns]"
            ]
          },
          "execution_count": 42,
          "metadata": {},
          "output_type": "execute_result"
        }
      ],
>>>>>>> parent of 889ce87 (Added a correlation matrix)
      "source": [
        "df.head()"
      ]
    },
    {
      "cell_type": "code",
<<<<<<< HEAD
      "execution_count": null,
      "id": "12437a72",
      "metadata": {
        "collapsed": false,
        "execution": {
          "iopub.execute_input": "2022-01-24T20:35:45.339827Z",
          "iopub.status.busy": "2022-01-24T20:35:45.338869Z",
          "iopub.status.idle": "2022-01-24T20:35:45.343862Z",
          "shell.execute_reply": "2022-01-24T20:35:45.344293Z",
          "shell.execute_reply.started": "2022-01-24T20:24:47.571786Z"
        },
        "jupyter": {
          "outputs_hidden": false
        },
        "papermill": {
          "duration": 0.05162,
          "end_time": "2022-01-24T20:35:45.344459",
          "exception": false,
          "start_time": "2022-01-24T20:35:45.292839",
          "status": "completed"
        },
        "pycharm": {
          "is_executing": true,
          "name": "#%%\n"
        },
        "tags": []
      },
      "outputs": [],
      "source": [
        "df.shape"
      ]
    },
    {
      "cell_type": "code",
      "execution_count": null,
      "id": "9d2da6c3",
      "metadata": {
        "collapsed": false,
        "execution": {
          "iopub.execute_input": "2022-01-24T20:35:45.439421Z",
          "iopub.status.busy": "2022-01-24T20:35:45.438718Z",
          "iopub.status.idle": "2022-01-24T20:35:50.553158Z",
          "shell.execute_reply": "2022-01-24T20:35:50.552558Z",
          "shell.execute_reply.started": "2022-01-24T20:24:47.585511Z"
        },
        "jupyter": {
          "outputs_hidden": false
        },
        "papermill": {
          "duration": 5.165681,
          "end_time": "2022-01-24T20:35:50.553304",
          "exception": false,
          "start_time": "2022-01-24T20:35:45.387623",
          "status": "completed"
        },
        "pycharm": {
          "is_executing": true,
          "name": "#%%\n"
        },
        "tags": []
      },
=======
      "execution_count": 43,
      "metadata": {},
>>>>>>> parent of 889ce87 (Added a correlation matrix)
      "outputs": [],
      "source": [
        "def amount_to_float(number):\n",
        "    num = number.replace(\"$\", \"\")\n",
        "    num = num.replace(\",\",\"\")\n",
        "    num = num.replace(\" \",\"\")\n",
        "    return float(num)\n",
        "\n",
        "#instead of dealing with money as a string we will deal with it as a number\n",
        "df['BalanceGross'] = df['BalanceGross'].apply(lambda x: amount_to_float(x))\n",
        "df['DisbursementGross'] = df['DisbursementGross'].apply(lambda x: amount_to_float(x))\n",
        "df['ChgOffPrinGr'] = df['ChgOffPrinGr'].apply(lambda x: amount_to_float(x))\n",
        "df['GrAppv'] = df['GrAppv'].apply(lambda x: amount_to_float(x))\n",
        "df['SBA_Appv'] = df['SBA_Appv'].apply(lambda x: amount_to_float(x))"
      ]
    },
    {
      "cell_type": "code",
<<<<<<< HEAD
      "execution_count": null,
      "id": "19dc5bbf",
      "metadata": {
        "collapsed": false,
        "execution": {
          "iopub.execute_input": "2022-01-24T20:35:50.645684Z",
          "iopub.status.busy": "2022-01-24T20:35:50.644996Z",
          "iopub.status.idle": "2022-01-24T20:35:50.667242Z",
          "shell.execute_reply": "2022-01-24T20:35:50.666635Z",
          "shell.execute_reply.started": "2022-01-24T20:24:52.852928Z"
        },
        "jupyter": {
          "outputs_hidden": false
        },
        "papermill": {
          "duration": 0.069279,
          "end_time": "2022-01-24T20:35:50.667397",
          "exception": false,
          "start_time": "2022-01-24T20:35:50.598118",
          "status": "completed"
        },
        "pycharm": {
          "is_executing": true,
          "name": "#%%\n"
        },
        "tags": []
      },
      "outputs": [],
=======
      "execution_count": 44,
      "metadata": {},
      "outputs": [
        {
          "name": "stdout",
          "output_type": "stream",
          "text": [
            "0            Paid\n",
            "1            Paid\n",
            "2            Paid\n",
            "3            Paid\n",
            "4            Paid\n",
            "           ...   \n",
            "899159       Paid\n",
            "899160       Paid\n",
            "899161       Paid\n",
            "899162    Charged\n",
            "899163       Paid\n",
            "Name: MIS_Status, Length: 886240, dtype: object\n"
          ]
        }
      ],
>>>>>>> parent of 889ce87 (Added a correlation matrix)
      "source": [
        "# we replace it to be a binary where 1 to be a new business and 0 an old business\n",
        "df['NewExist'] = df['NewExist'].replace(1,0)\n",
        "df['NewExist'] = df['NewExist'].replace(2,1)"
      ]
    },
    {
      "cell_type": "code",
<<<<<<< HEAD
      "execution_count": null,
      "id": "62e2d456",
      "metadata": {
        "collapsed": false,
        "execution": {
          "iopub.execute_input": "2022-01-24T20:35:50.758388Z",
          "iopub.status.busy": "2022-01-24T20:35:50.757722Z",
          "iopub.status.idle": "2022-01-24T20:35:55.004474Z",
          "shell.execute_reply": "2022-01-24T20:35:55.005112Z",
          "shell.execute_reply.started": "2022-01-24T20:24:52.881068Z"
        },
        "jupyter": {
          "outputs_hidden": false
        },
        "papermill": {
          "duration": 4.294373,
          "end_time": "2022-01-24T20:35:55.005321",
          "exception": false,
          "start_time": "2022-01-24T20:35:50.710948",
          "status": "completed"
        },
        "pycharm": {
          "is_executing": true,
          "name": "#%%\n"
        },
        "tags": []
      },
      "outputs": [],
=======
      "execution_count": 45,
      "metadata": {},
      "outputs": [
        {
          "data": {
            "text/html": [
              "<div>\n",
              "<style scoped>\n",
              "    .dataframe tbody tr th:only-of-type {\n",
              "        vertical-align: middle;\n",
              "    }\n",
              "\n",
              "    .dataframe tbody tr th {\n",
              "        vertical-align: top;\n",
              "    }\n",
              "\n",
              "    .dataframe thead th {\n",
              "        text-align: right;\n",
              "    }\n",
              "</style>\n",
              "<table border=\"1\" class=\"dataframe\">\n",
              "  <thead>\n",
              "    <tr style=\"text-align: right;\">\n",
              "      <th></th>\n",
              "      <th>LoanNr_ChkDgt</th>\n",
              "      <th>Name</th>\n",
              "      <th>City</th>\n",
              "      <th>State</th>\n",
              "      <th>Zip</th>\n",
              "      <th>Bank</th>\n",
              "      <th>BankState</th>\n",
              "      <th>NAICS</th>\n",
              "      <th>ApprovalDate</th>\n",
              "      <th>ApprovalFY</th>\n",
              "      <th>...</th>\n",
              "      <th>UrbanRural</th>\n",
              "      <th>RevLineCr</th>\n",
              "      <th>LowDoc</th>\n",
              "      <th>ChgOffDate</th>\n",
              "      <th>DisbursementDate</th>\n",
              "      <th>DisbursementGross</th>\n",
              "      <th>BalanceGross</th>\n",
              "      <th>ChgOffPrinGr</th>\n",
              "      <th>GrAppv</th>\n",
              "      <th>SBA_Appv</th>\n",
              "    </tr>\n",
              "  </thead>\n",
              "  <tbody>\n",
              "    <tr>\n",
              "      <th>0</th>\n",
              "      <td>1000014003</td>\n",
              "      <td>ABC HOBBYCRAFT</td>\n",
              "      <td>EVANSVILLE</td>\n",
              "      <td>IN</td>\n",
              "      <td>47711</td>\n",
              "      <td>FIFTH THIRD BANK</td>\n",
              "      <td>OH</td>\n",
              "      <td>451120</td>\n",
              "      <td>1997-02-28</td>\n",
              "      <td>1997</td>\n",
              "      <td>...</td>\n",
              "      <td>0</td>\n",
              "      <td>N</td>\n",
              "      <td>Y</td>\n",
              "      <td>N/A</td>\n",
              "      <td>1999-02-28</td>\n",
              "      <td>60000.0</td>\n",
              "      <td>0.0</td>\n",
              "      <td>0.0</td>\n",
              "      <td>60000.0</td>\n",
              "      <td>48000.0</td>\n",
              "    </tr>\n",
              "    <tr>\n",
              "      <th>1</th>\n",
              "      <td>1000024006</td>\n",
              "      <td>LANDMARK BAR &amp; GRILLE (THE)</td>\n",
              "      <td>NEW PARIS</td>\n",
              "      <td>IN</td>\n",
              "      <td>46526</td>\n",
              "      <td>1ST SOURCE BANK</td>\n",
              "      <td>IN</td>\n",
              "      <td>722410</td>\n",
              "      <td>1997-02-28</td>\n",
              "      <td>1997</td>\n",
              "      <td>...</td>\n",
              "      <td>0</td>\n",
              "      <td>N</td>\n",
              "      <td>Y</td>\n",
              "      <td>N/A</td>\n",
              "      <td>1997-05-31</td>\n",
              "      <td>40000.0</td>\n",
              "      <td>0.0</td>\n",
              "      <td>0.0</td>\n",
              "      <td>40000.0</td>\n",
              "      <td>32000.0</td>\n",
              "    </tr>\n",
              "    <tr>\n",
              "      <th>2</th>\n",
              "      <td>1000034009</td>\n",
              "      <td>WHITLOCK DDS, TODD M.</td>\n",
              "      <td>BLOOMINGTON</td>\n",
              "      <td>IN</td>\n",
              "      <td>47401</td>\n",
              "      <td>GRANT COUNTY STATE BANK</td>\n",
              "      <td>IN</td>\n",
              "      <td>621210</td>\n",
              "      <td>1997-02-28</td>\n",
              "      <td>1997</td>\n",
              "      <td>...</td>\n",
              "      <td>0</td>\n",
              "      <td>N</td>\n",
              "      <td>N</td>\n",
              "      <td>N/A</td>\n",
              "      <td>1997-12-31</td>\n",
              "      <td>287000.0</td>\n",
              "      <td>0.0</td>\n",
              "      <td>0.0</td>\n",
              "      <td>287000.0</td>\n",
              "      <td>215250.0</td>\n",
              "    </tr>\n",
              "    <tr>\n",
              "      <th>3</th>\n",
              "      <td>1000044001</td>\n",
              "      <td>BIG BUCKS PAWN &amp; JEWELRY, LLC</td>\n",
              "      <td>BROKEN ARROW</td>\n",
              "      <td>OK</td>\n",
              "      <td>74012</td>\n",
              "      <td>1ST NATL BK &amp; TR CO OF BROKEN</td>\n",
              "      <td>OK</td>\n",
              "      <td>0</td>\n",
              "      <td>1997-02-28</td>\n",
              "      <td>1997</td>\n",
              "      <td>...</td>\n",
              "      <td>0</td>\n",
              "      <td>N</td>\n",
              "      <td>Y</td>\n",
              "      <td>N/A</td>\n",
              "      <td>1997-06-30</td>\n",
              "      <td>35000.0</td>\n",
              "      <td>0.0</td>\n",
              "      <td>0.0</td>\n",
              "      <td>35000.0</td>\n",
              "      <td>28000.0</td>\n",
              "    </tr>\n",
              "    <tr>\n",
              "      <th>4</th>\n",
              "      <td>1000054004</td>\n",
              "      <td>ANASTASIA CONFECTIONS, INC.</td>\n",
              "      <td>ORLANDO</td>\n",
              "      <td>FL</td>\n",
              "      <td>32801</td>\n",
              "      <td>FLORIDA BUS. DEVEL CORP</td>\n",
              "      <td>FL</td>\n",
              "      <td>0</td>\n",
              "      <td>1997-02-28</td>\n",
              "      <td>1997</td>\n",
              "      <td>...</td>\n",
              "      <td>0</td>\n",
              "      <td>N</td>\n",
              "      <td>N</td>\n",
              "      <td>N/A</td>\n",
              "      <td>1997-05-14</td>\n",
              "      <td>229000.0</td>\n",
              "      <td>0.0</td>\n",
              "      <td>0.0</td>\n",
              "      <td>229000.0</td>\n",
              "      <td>229000.0</td>\n",
              "    </tr>\n",
              "  </tbody>\n",
              "</table>\n",
              "<p>5 rows × 26 columns</p>\n",
              "</div>"
            ],
            "text/plain": [
              "   LoanNr_ChkDgt                           Name          City State    Zip  \\\n",
              "0     1000014003                 ABC HOBBYCRAFT    EVANSVILLE    IN  47711   \n",
              "1     1000024006    LANDMARK BAR & GRILLE (THE)     NEW PARIS    IN  46526   \n",
              "2     1000034009          WHITLOCK DDS, TODD M.   BLOOMINGTON    IN  47401   \n",
              "3     1000044001  BIG BUCKS PAWN & JEWELRY, LLC  BROKEN ARROW    OK  74012   \n",
              "4     1000054004    ANASTASIA CONFECTIONS, INC.       ORLANDO    FL  32801   \n",
              "\n",
              "                            Bank BankState   NAICS ApprovalDate ApprovalFY  \\\n",
              "0               FIFTH THIRD BANK        OH  451120   1997-02-28       1997   \n",
              "1                1ST SOURCE BANK        IN  722410   1997-02-28       1997   \n",
              "2        GRANT COUNTY STATE BANK        IN  621210   1997-02-28       1997   \n",
              "3  1ST NATL BK & TR CO OF BROKEN        OK       0   1997-02-28       1997   \n",
              "4        FLORIDA BUS. DEVEL CORP        FL       0   1997-02-28       1997   \n",
              "\n",
              "   ...  UrbanRural  RevLineCr  LowDoc  ChgOffDate  DisbursementDate  \\\n",
              "0  ...           0          N       Y         N/A        1999-02-28   \n",
              "1  ...           0          N       Y         N/A        1997-05-31   \n",
              "2  ...           0          N       N         N/A        1997-12-31   \n",
              "3  ...           0          N       Y         N/A        1997-06-30   \n",
              "4  ...           0          N       N         N/A        1997-05-14   \n",
              "\n",
              "   DisbursementGross  BalanceGross ChgOffPrinGr    GrAppv  SBA_Appv  \n",
              "0            60000.0           0.0          0.0   60000.0   48000.0  \n",
              "1            40000.0           0.0          0.0   40000.0   32000.0  \n",
              "2           287000.0           0.0          0.0  287000.0  215250.0  \n",
              "3            35000.0           0.0          0.0   35000.0   28000.0  \n",
              "4           229000.0           0.0          0.0  229000.0  229000.0  \n",
              "\n",
              "[5 rows x 26 columns]"
            ]
          },
          "execution_count": 45,
          "metadata": {},
          "output_type": "execute_result"
        }
      ],
>>>>>>> parent of 889ce87 (Added a correlation matrix)
      "source": [
        "# we replace the LowDoc values to be binary instead of Y and N\n",
        "df['LowDoc'] = df['LowDoc'].replace({'Y':'1', 'N':'0'}, regex=True)\n",
        "valid = ['1', '0']\n",
        "df = df.loc[df['LowDoc'].isin(valid)]\n",
        "df['LowDoc'] = df['LowDoc'].astype(int)"
      ]
    },
    {
      "cell_type": "code",
      "execution_count": null,
      "id": "3ec6bd14",
      "metadata": {
        "execution": {
          "iopub.execute_input": "2022-01-24T20:35:55.183593Z",
          "iopub.status.busy": "2022-01-24T20:35:55.093880Z",
          "iopub.status.idle": "2022-01-24T20:35:58.957502Z",
          "shell.execute_reply": "2022-01-24T20:35:58.956607Z",
          "shell.execute_reply.started": "2022-01-24T20:24:57.163454Z"
        },
        "papermill": {
          "duration": 3.909283,
          "end_time": "2022-01-24T20:35:58.957656",
          "exception": false,
          "start_time": "2022-01-24T20:35:55.048373",
          "status": "completed"
        },
        "tags": []
      },
      "outputs": [],
      "source": [
        "# we replace the RevLineCr values to be binary instead of Y and N\n",
        "df['RevLineCr'] = df['RevLineCr'].replace({'Y':'1', 'N':'0'}, regex=True)\n",
        "df = df.loc[df['RevLineCr'].isin(valid)]\n",
        "df['RevLineCr'] = df['RevLineCr'].astype(int)"
      ]
    },
    {
      "cell_type": "code",
      "execution_count": null,
      "id": "49516c01",
      "metadata": {
        "collapsed": false,
        "execution": {
          "iopub.execute_input": "2022-01-24T20:35:59.053155Z",
          "iopub.status.busy": "2022-01-24T20:35:59.051469Z",
          "iopub.status.idle": "2022-01-24T20:35:59.066254Z",
          "shell.execute_reply": "2022-01-24T20:35:59.065690Z",
          "shell.execute_reply.started": "2022-01-24T20:25:01.015904Z"
        },
        "jupyter": {
          "outputs_hidden": false
        },
        "papermill": {
          "duration": 0.064989,
          "end_time": "2022-01-24T20:35:59.066403",
          "exception": false,
          "start_time": "2022-01-24T20:35:59.001414",
          "status": "completed"
        },
        "pycharm": {
          "is_executing": true,
          "name": "#%%\n"
        },
        "tags": []
      },
      "outputs": [],
      "source": [
        "# we make FranchiseCode a binary column named Franchise where 1 is true and 0 is false\n",
        "df['FranchiseCode'] = df['FranchiseCode'].replace(1,0)\n",
        "df['FranchiseCode'] = np.where((df.FranchiseCode != 0),1,df.FranchiseCode)\n",
        "df.rename(columns={\"FranchiseCode\":\"Franchise\"},inplace=True)"
      ]
    },
    {
      "cell_type": "code",
      "execution_count": null,
      "id": "074cf126",
      "metadata": {
        "collapsed": false,
        "execution": {
          "iopub.execute_input": "2022-01-24T20:35:59.163564Z",
          "iopub.status.busy": "2022-01-24T20:35:59.162810Z",
          "iopub.status.idle": "2022-01-24T20:35:59.165496Z",
          "shell.execute_reply": "2022-01-24T20:35:59.166014Z",
          "shell.execute_reply.started": "2022-01-24T20:25:01.039282Z"
        },
        "jupyter": {
          "outputs_hidden": false
        },
        "papermill": {
          "duration": 0.05591,
          "end_time": "2022-01-24T20:35:59.166188",
          "exception": false,
          "start_time": "2022-01-24T20:35:59.110278",
          "status": "completed"
        },
        "pycharm": {
          "is_executing": true,
          "name": "#%%\n"
        },
        "tags": []
      },
      "outputs": [],
      "source": [
        "df.shape"
      ]
    },
    {
      "cell_type": "code",
      "execution_count": null,
      "id": "4af0f04f",
      "metadata": {
        "collapsed": false,
        "execution": {
          "iopub.execute_input": "2022-01-24T20:35:59.260797Z",
          "iopub.status.busy": "2022-01-24T20:35:59.259303Z",
          "iopub.status.idle": "2022-01-24T20:35:59.758423Z",
          "shell.execute_reply": "2022-01-24T20:35:59.757824Z",
          "shell.execute_reply.started": "2022-01-24T20:25:01.046557Z"
        },
        "jupyter": {
          "outputs_hidden": false
        },
        "papermill": {
          "duration": 0.548645,
          "end_time": "2022-01-24T20:35:59.758563",
          "exception": false,
          "start_time": "2022-01-24T20:35:59.209918",
          "status": "completed"
        },
        "pycharm": {
          "is_executing": true,
          "name": "#%%\n"
        },
        "tags": []
      },
      "outputs": [],
      "source": [
        "# we get dummies for the catagorical columns BankState and State\n",
        "df = pd.get_dummies(df,columns=['BankState','State'],prefix=['BankState','State'])"
      ]
    },
    {
      "cell_type": "code",
      "execution_count": null,
      "id": "3738d465",
      "metadata": {
        "collapsed": false,
        "execution": {
          "iopub.execute_input": "2022-01-24T20:35:59.854920Z",
          "iopub.status.busy": "2022-01-24T20:35:59.853894Z",
          "iopub.status.idle": "2022-01-24T20:36:00.879478Z",
          "shell.execute_reply": "2022-01-24T20:36:00.878854Z",
          "shell.execute_reply.started": "2022-01-24T20:25:01.589735Z"
        },
        "jupyter": {
          "outputs_hidden": false
        },
        "papermill": {
          "duration": 1.075751,
          "end_time": "2022-01-24T20:36:00.879623",
          "exception": false,
          "start_time": "2022-01-24T20:35:59.803872",
          "status": "completed"
        },
        "pycharm": {
          "is_executing": true,
          "name": "#%%\n"
        },
        "tags": []
      },
      "outputs": [],
      "source": [
        "# only take the first 2 digits from the NAICS values\n",
        "def first_n_digits(number, n):\n",
        "    return int(str(number)[:n])\n",
        "df['NAICS'] = df['NAICS'].apply(lambda x: first_n_digits(x,2))"
      ]
    },
    {
      "cell_type": "code",
      "execution_count": null,
      "id": "da6da420",
      "metadata": {
        "collapsed": false,
        "execution": {
          "iopub.execute_input": "2022-01-24T20:36:00.982731Z",
          "iopub.status.busy": "2022-01-24T20:36:00.981302Z",
          "iopub.status.idle": "2022-01-24T20:36:00.993309Z",
          "shell.execute_reply": "2022-01-24T20:36:00.992703Z",
          "shell.execute_reply.started": "2022-01-24T20:25:02.567866Z"
        },
        "jupyter": {
          "outputs_hidden": false
        },
        "papermill": {
          "duration": 0.068154,
          "end_time": "2022-01-24T20:36:00.993476",
          "exception": false,
          "start_time": "2022-01-24T20:36:00.925322",
          "status": "completed"
        },
        "pycharm": {
          "is_executing": true,
          "name": "#%%\n"
        },
        "tags": []
      },
      "outputs": [],
      "source": [
        "df.head()"
      ]
    },
    {
      "cell_type": "code",
      "execution_count": null,
      "id": "9bc4e9ad",
      "metadata": {
        "collapsed": false,
        "execution": {
          "iopub.execute_input": "2022-01-24T20:36:01.090669Z",
          "iopub.status.busy": "2022-01-24T20:36:01.089982Z",
          "iopub.status.idle": "2022-01-24T20:36:01.098669Z",
          "shell.execute_reply": "2022-01-24T20:36:01.098101Z",
          "shell.execute_reply.started": "2022-01-24T20:25:02.592549Z"
        },
        "jupyter": {
          "outputs_hidden": false
        },
        "papermill": {
          "duration": 0.058684,
          "end_time": "2022-01-24T20:36:01.098823",
          "exception": false,
          "start_time": "2022-01-24T20:36:01.040139",
          "status": "completed"
        },
        "pycharm": {
          "is_executing": true,
          "name": "#%%\n"
        },
        "tags": []
      },
      "outputs": [],
      "source": [
        "df['NAICS'].unique()"
      ]
    },
    {
      "cell_type": "code",
      "execution_count": null,
      "id": "de962508",
      "metadata": {
        "collapsed": false,
        "execution": {
          "iopub.execute_input": "2022-01-24T20:36:01.191559Z",
          "iopub.status.busy": "2022-01-24T20:36:01.190885Z",
          "iopub.status.idle": "2022-01-24T20:36:01.197473Z",
          "shell.execute_reply": "2022-01-24T20:36:01.196972Z",
          "shell.execute_reply.started": "2022-01-24T20:25:02.606685Z"
        },
        "jupyter": {
          "outputs_hidden": false
        },
        "papermill": {
          "duration": 0.054056,
          "end_time": "2022-01-24T20:36:01.197617",
          "exception": false,
          "start_time": "2022-01-24T20:36:01.143561",
          "status": "completed"
        },
        "pycharm": {
          "is_executing": true,
          "name": "#%%\n"
        },
        "tags": []
      },
      "outputs": [],
      "source": [
        "df.columns"
      ]
    },
    {
      "cell_type": "code",
      "execution_count": null,
      "id": "90f5426f",
      "metadata": {
        "collapsed": false,
        "execution": {
          "iopub.execute_input": "2022-01-24T20:36:01.295200Z",
          "iopub.status.busy": "2022-01-24T20:36:01.294339Z",
          "iopub.status.idle": "2022-01-24T20:36:01.298190Z",
          "shell.execute_reply": "2022-01-24T20:36:01.297569Z",
          "shell.execute_reply.started": "2022-01-24T20:25:02.614431Z"
        },
        "jupyter": {
          "outputs_hidden": false
        },
        "papermill": {
          "duration": 0.055736,
          "end_time": "2022-01-24T20:36:01.298341",
          "exception": false,
          "start_time": "2022-01-24T20:36:01.242605",
          "status": "completed"
        },
        "pycharm": {
          "is_executing": true,
          "name": "#%%\n"
        },
        "tags": []
      },
      "outputs": [],
      "source": [
        "df.dtypes"
      ]
    },
    {
      "cell_type": "markdown",
      "metadata": {
        "id": "zUl6PApC8zlp"
      },
      "source": [
        "## Model selection and training\n",
        "\n",
        "Here is where you will use the `scikit-learn` module to choose, load, and train your ML algorithm of choice. At this step, we will discuss which algorithm to use carefully, based on the task at hand (classification/regression/clustering), and maybe some more details pertaining to certain algorithms.\n"
      ]
    },
    {
      "cell_type": "code",
<<<<<<< HEAD
      "execution_count": null,
=======
      "execution_count": 46,
>>>>>>> parent of 889ce87 (Added a correlation matrix)
      "metadata": {},
      "outputs": [],
      "source": [
        "# 10 Popular Classificaiton Methods can be found here:\n",
        "# https://www.educative.io/blog/scikit-learn-cheat-sheet-classification-regression-methods\n",
        "# https://www.kaggle.com/code/ec200000/dsi-project#Modeling\n",
        "\n",
        "y = df['Defaulted']\n",
        "X = df.drop(columns=['Defaulted'])\n",
        "y_backup = y\n",
        "X = X.to_numpy()\n",
        "y = pd.get_dummies(y)\n",
        "y = y.to_numpy()\n",
        "X_train, X_test, y_train, y_test = train_test_split(X, y, random_state=0, stratify=y)"
      ]
    },
    {
      "cell_type": "markdown",
      "metadata": {
        "id": "LDdQwXj49L4c"
      },
      "source": [
        "## Results presentation\n",
        "\n",
        "This is the final step. Here, you will provide the outcomes of your analysis. These outcomes can be in the form of tables, plots, or both. \n",
        "As an extra step, you could also provide numerical results showing the efficiency of your model that can be described using specific ML characteristics:\n",
        "\n",
        " - accuracy\n",
        " - precision/recall\n",
        " - F1 score\n",
        " - Area Under Curve\n",
        " - ...\n",
        "\n",
        "We will discuss further about those in class."
      ]
    },
    {
      "cell_type": "code",
      "execution_count": null,
      "metadata": {
        "id": "GvJ5GWUr9y9P"
      },
      "outputs": [],
      "source": []
    }
  ],
  "metadata": {
    "colab": {
      "name": "GroupAssignmentTemplate.ipynb",
      "provenance": []
    },
    "kernelspec": {
      "display_name": "Python 3",
      "name": "python3"
    },
    "language_info": {
      "codemirror_mode": {
        "name": "ipython",
        "version": 3
      },
      "file_extension": ".py",
      "mimetype": "text/x-python",
      "name": "python",
      "nbconvert_exporter": "python",
      "pygments_lexer": "ipython3",
      "version": "3.9.7"
    }
  },
  "nbformat": 4,
  "nbformat_minor": 0
}
